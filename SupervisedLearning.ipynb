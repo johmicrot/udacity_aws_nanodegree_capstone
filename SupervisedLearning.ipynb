{
 "cells": [
  {
   "cell_type": "code",
   "execution_count": 1,
   "id": "a5e4b3d5-f652-440d-a7ed-ff31428cb96c",
   "metadata": {
    "scrolled": true
   },
   "outputs": [
    {
     "name": "stdout",
     "output_type": "stream",
     "text": [
      "Requirement already satisfied: ydata_profiling in /opt/conda/lib/python3.11/site-packages (4.12.1)\n",
      "Requirement already satisfied: scipy<1.14,>=1.4.1 in /opt/conda/lib/python3.11/site-packages (from ydata_profiling) (1.13.1)\n",
      "Requirement already satisfied: pandas!=1.4.0,<3,>1.1 in /opt/conda/lib/python3.11/site-packages (from ydata_profiling) (2.2.3)\n",
      "Requirement already satisfied: matplotlib<3.10,>=3.5 in /opt/conda/lib/python3.11/site-packages (from ydata_profiling) (3.9.3)\n",
      "Requirement already satisfied: pydantic>=2 in /opt/conda/lib/python3.11/site-packages (from ydata_profiling) (2.10.3)\n",
      "Requirement already satisfied: PyYAML<6.1,>=5.0.0 in /opt/conda/lib/python3.11/site-packages (from ydata_profiling) (6.0.2)\n",
      "Requirement already satisfied: jinja2<3.2,>=2.11.1 in /opt/conda/lib/python3.11/site-packages (from ydata_profiling) (3.1.4)\n",
      "Requirement already satisfied: visions<0.7.7,>=0.7.5 in /opt/conda/lib/python3.11/site-packages (from visions[type_image_path]<0.7.7,>=0.7.5->ydata_profiling) (0.7.6)\n",
      "Requirement already satisfied: numpy<2.2,>=1.16.0 in /opt/conda/lib/python3.11/site-packages (from ydata_profiling) (1.26.4)\n",
      "Requirement already satisfied: htmlmin==0.1.12 in /opt/conda/lib/python3.11/site-packages (from ydata_profiling) (0.1.12)\n",
      "Requirement already satisfied: phik<0.13,>=0.11.1 in /opt/conda/lib/python3.11/site-packages (from ydata_profiling) (0.12.4)\n",
      "Requirement already satisfied: requests<3,>=2.24.0 in /opt/conda/lib/python3.11/site-packages (from ydata_profiling) (2.32.3)\n",
      "Requirement already satisfied: tqdm<5,>=4.48.2 in /opt/conda/lib/python3.11/site-packages (from ydata_profiling) (4.67.1)\n",
      "Requirement already satisfied: seaborn<0.14,>=0.10.1 in /opt/conda/lib/python3.11/site-packages (from ydata_profiling) (0.13.2)\n",
      "Requirement already satisfied: multimethod<2,>=1.4 in /opt/conda/lib/python3.11/site-packages (from ydata_profiling) (1.12)\n",
      "Requirement already satisfied: statsmodels<1,>=0.13.2 in /opt/conda/lib/python3.11/site-packages (from ydata_profiling) (0.14.4)\n",
      "Requirement already satisfied: typeguard<5,>=3 in /opt/conda/lib/python3.11/site-packages (from ydata_profiling) (4.4.1)\n",
      "Requirement already satisfied: imagehash==4.3.1 in /opt/conda/lib/python3.11/site-packages (from ydata_profiling) (4.3.1)\n",
      "Requirement already satisfied: wordcloud>=1.9.3 in /opt/conda/lib/python3.11/site-packages (from ydata_profiling) (1.9.4)\n",
      "Requirement already satisfied: dacite>=1.8 in /opt/conda/lib/python3.11/site-packages (from ydata_profiling) (1.8.1)\n",
      "Requirement already satisfied: numba<1,>=0.56.0 in /opt/conda/lib/python3.11/site-packages (from ydata_profiling) (0.60.0)\n",
      "Requirement already satisfied: PyWavelets in /opt/conda/lib/python3.11/site-packages (from imagehash==4.3.1->ydata_profiling) (1.8.0)\n",
      "Requirement already satisfied: pillow in /opt/conda/lib/python3.11/site-packages (from imagehash==4.3.1->ydata_profiling) (10.4.0)\n",
      "Requirement already satisfied: MarkupSafe>=2.0 in /opt/conda/lib/python3.11/site-packages (from jinja2<3.2,>=2.11.1->ydata_profiling) (3.0.2)\n",
      "Requirement already satisfied: contourpy>=1.0.1 in /opt/conda/lib/python3.11/site-packages (from matplotlib<3.10,>=3.5->ydata_profiling) (1.3.1)\n",
      "Requirement already satisfied: cycler>=0.10 in /opt/conda/lib/python3.11/site-packages (from matplotlib<3.10,>=3.5->ydata_profiling) (0.12.1)\n",
      "Requirement already satisfied: fonttools>=4.22.0 in /opt/conda/lib/python3.11/site-packages (from matplotlib<3.10,>=3.5->ydata_profiling) (4.55.3)\n",
      "Requirement already satisfied: kiwisolver>=1.3.1 in /opt/conda/lib/python3.11/site-packages (from matplotlib<3.10,>=3.5->ydata_profiling) (1.4.7)\n",
      "Requirement already satisfied: packaging>=20.0 in /opt/conda/lib/python3.11/site-packages (from matplotlib<3.10,>=3.5->ydata_profiling) (24.2)\n",
      "Requirement already satisfied: pyparsing>=2.3.1 in /opt/conda/lib/python3.11/site-packages (from matplotlib<3.10,>=3.5->ydata_profiling) (3.2.0)\n",
      "Requirement already satisfied: python-dateutil>=2.7 in /opt/conda/lib/python3.11/site-packages (from matplotlib<3.10,>=3.5->ydata_profiling) (2.9.0.post0)\n",
      "Requirement already satisfied: llvmlite<0.44,>=0.43.0dev0 in /opt/conda/lib/python3.11/site-packages (from numba<1,>=0.56.0->ydata_profiling) (0.43.0)\n",
      "Requirement already satisfied: pytz>=2020.1 in /opt/conda/lib/python3.11/site-packages (from pandas!=1.4.0,<3,>1.1->ydata_profiling) (2023.3)\n",
      "Requirement already satisfied: tzdata>=2022.7 in /opt/conda/lib/python3.11/site-packages (from pandas!=1.4.0,<3,>1.1->ydata_profiling) (2024.2)\n",
      "Requirement already satisfied: joblib>=0.14.1 in /opt/conda/lib/python3.11/site-packages (from phik<0.13,>=0.11.1->ydata_profiling) (1.4.2)\n",
      "Requirement already satisfied: annotated-types>=0.6.0 in /opt/conda/lib/python3.11/site-packages (from pydantic>=2->ydata_profiling) (0.7.0)\n",
      "Requirement already satisfied: pydantic-core==2.27.1 in /opt/conda/lib/python3.11/site-packages (from pydantic>=2->ydata_profiling) (2.27.1)\n",
      "Requirement already satisfied: typing-extensions>=4.12.2 in /opt/conda/lib/python3.11/site-packages (from pydantic>=2->ydata_profiling) (4.12.2)\n",
      "Requirement already satisfied: charset_normalizer<4,>=2 in /opt/conda/lib/python3.11/site-packages (from requests<3,>=2.24.0->ydata_profiling) (3.4.0)\n",
      "Requirement already satisfied: idna<4,>=2.5 in /opt/conda/lib/python3.11/site-packages (from requests<3,>=2.24.0->ydata_profiling) (3.10)\n",
      "Requirement already satisfied: urllib3<3,>=1.21.1 in /opt/conda/lib/python3.11/site-packages (from requests<3,>=2.24.0->ydata_profiling) (1.26.19)\n",
      "Requirement already satisfied: certifi>=2017.4.17 in /opt/conda/lib/python3.11/site-packages (from requests<3,>=2.24.0->ydata_profiling) (2024.8.30)\n",
      "Requirement already satisfied: patsy>=0.5.6 in /opt/conda/lib/python3.11/site-packages (from statsmodels<1,>=0.13.2->ydata_profiling) (1.0.1)\n",
      "Requirement already satisfied: attrs>=19.3.0 in /opt/conda/lib/python3.11/site-packages (from visions<0.7.7,>=0.7.5->visions[type_image_path]<0.7.7,>=0.7.5->ydata_profiling) (23.2.0)\n",
      "Requirement already satisfied: networkx>=2.4 in /opt/conda/lib/python3.11/site-packages (from visions<0.7.7,>=0.7.5->visions[type_image_path]<0.7.7,>=0.7.5->ydata_profiling) (3.4.2)\n",
      "Requirement already satisfied: six>=1.5 in /opt/conda/lib/python3.11/site-packages (from python-dateutil>=2.7->matplotlib<3.10,>=3.5->ydata_profiling) (1.17.0)\n",
      "Requirement already satisfied: openpyxl in /opt/conda/lib/python3.11/site-packages (3.1.5)\n",
      "Requirement already satisfied: et-xmlfile in /opt/conda/lib/python3.11/site-packages (from openpyxl) (2.0.0)\n",
      "Requirement already satisfied: umap-learn in /opt/conda/lib/python3.11/site-packages (0.5.7)\n",
      "Requirement already satisfied: numpy>=1.17 in /opt/conda/lib/python3.11/site-packages (from umap-learn) (1.26.4)\n",
      "Requirement already satisfied: scipy>=1.3.1 in /opt/conda/lib/python3.11/site-packages (from umap-learn) (1.13.1)\n",
      "Requirement already satisfied: scikit-learn>=0.22 in /opt/conda/lib/python3.11/site-packages (from umap-learn) (1.5.2)\n",
      "Requirement already satisfied: numba>=0.51.2 in /opt/conda/lib/python3.11/site-packages (from umap-learn) (0.60.0)\n",
      "Requirement already satisfied: pynndescent>=0.5 in /opt/conda/lib/python3.11/site-packages (from umap-learn) (0.5.13)\n",
      "Requirement already satisfied: tqdm in /opt/conda/lib/python3.11/site-packages (from umap-learn) (4.67.1)\n",
      "Requirement already satisfied: llvmlite<0.44,>=0.43.0dev0 in /opt/conda/lib/python3.11/site-packages (from numba>=0.51.2->umap-learn) (0.43.0)\n",
      "Requirement already satisfied: joblib>=0.11 in /opt/conda/lib/python3.11/site-packages (from pynndescent>=0.5->umap-learn) (1.4.2)\n",
      "Requirement already satisfied: threadpoolctl>=3.1.0 in /opt/conda/lib/python3.11/site-packages (from scikit-learn>=0.22->umap-learn) (3.5.0)\n",
      "Requirement already satisfied: imblearn in /opt/conda/lib/python3.11/site-packages (0.0)\n",
      "Requirement already satisfied: imbalanced-learn in /opt/conda/lib/python3.11/site-packages (from imblearn) (0.13.0)\n",
      "Requirement already satisfied: numpy<3,>=1.24.3 in /opt/conda/lib/python3.11/site-packages (from imbalanced-learn->imblearn) (1.26.4)\n",
      "Requirement already satisfied: scipy<2,>=1.10.1 in /opt/conda/lib/python3.11/site-packages (from imbalanced-learn->imblearn) (1.13.1)\n",
      "Requirement already satisfied: scikit-learn<2,>=1.3.2 in /opt/conda/lib/python3.11/site-packages (from imbalanced-learn->imblearn) (1.5.2)\n",
      "Requirement already satisfied: sklearn-compat<1,>=0.1 in /opt/conda/lib/python3.11/site-packages (from imbalanced-learn->imblearn) (0.1.3)\n",
      "Requirement already satisfied: joblib<2,>=1.1.1 in /opt/conda/lib/python3.11/site-packages (from imbalanced-learn->imblearn) (1.4.2)\n",
      "Requirement already satisfied: threadpoolctl<4,>=2.0.0 in /opt/conda/lib/python3.11/site-packages (from imbalanced-learn->imblearn) (3.5.0)\n"
     ]
    }
   ],
   "source": [
    "!pip install ydata_profiling\n",
    "!pip install openpyxl\n",
    "!pip install umap-learn\n",
    "!pip install imblearn"
   ]
  },
  {
   "cell_type": "code",
   "execution_count": 2,
   "id": "123ae126-de47-4677-9c34-abb8a8cc1f5d",
   "metadata": {},
   "outputs": [],
   "source": [
    "import pandas as pd\n",
    "import numpy as np\n",
    "from sklearn.preprocessing import StandardScaler\n",
    "from sklearn.feature_selection import VarianceThreshold\n",
    "from sklearn.ensemble import RandomForestClassifier\n",
    "from sklearn.model_selection import train_test_split, GridSearchCV\n",
    "from sklearn.metrics import roc_auc_score, classification_report, confusion_matrix\n",
    "from sklearn.metrics import average_precision_score, roc_auc_score, precision_recall_curve\n",
    "import matplotlib.pyplot as plt\n",
    "import seaborn as sns\n",
    "from imblearn.pipeline import Pipeline as ImbPipeline  # Use ImbPipeline for SMOTENC\n",
    "from imblearn.over_sampling import SMOTENC\n",
    "from catboost import CatBoostClassifier\n",
    "from sklearn.compose import ColumnTransformer\n",
    "from sklearn.impute import SimpleImputer\n",
    "from sklearn.pipeline import Pipeline\n",
    "\n",
    "from collections import Counter\n",
    "import numpy as np\n",
    "import pandas as pd\n",
    "from sklearn.model_selection import train_test_split\n",
    "from imblearn.over_sampling import SMOTE\n",
    "from imblearn.under_sampling import RandomUnderSampler\n",
    "from imblearn.combine import SMOTEENN\n",
    "from sklearn.utils.class_weight import compute_class_weight\n",
    "\n",
    "\n",
    "import optuna\n",
    "from catboost import CatBoostClassifier\n",
    "from sklearn.model_selection import train_test_split\n",
    "from sklearn.metrics import roc_auc_score"
   ]
  },
  {
   "cell_type": "code",
   "execution_count": 3,
   "id": "71eb9477-7a02-4acf-ac85-3557ba11c803",
   "metadata": {},
   "outputs": [],
   "source": [
    "df_train = pd.read_csv(\"arvato_data/data/Udacity_MAILOUT_052018_TRAIN.csv\",sep=';', dtype='category')\n",
    "df_test = pd.read_csv(\"arvato_data/data/Udacity_MAILOUT_052018_TEST.csv\",sep=';', dtype='category')"
   ]
  },
  {
   "cell_type": "markdown",
   "id": "5ccf6954-7ad7-476a-bc3c-559ce609ecf2",
   "metadata": {},
   "source": [
    "we will combine them and them for easier processing, and seperate them later.  We just should be careful about the operations applied to the test dataset"
   ]
  },
  {
   "cell_type": "code",
   "execution_count": 4,
   "id": "76526d73-d41f-43c7-a1bc-041e65c4f918",
   "metadata": {},
   "outputs": [],
   "source": [
    "df_train['type'] = 'train'\n",
    "df_test['type'] = 'test'"
   ]
  },
  {
   "cell_type": "code",
   "execution_count": 5,
   "id": "0353d7ce-6c17-441a-bbbd-4434181779ac",
   "metadata": {},
   "outputs": [],
   "source": [
    "all_data = pd.concat([df_train, df_test], axis=0)\n",
    "all_data.reset_index(drop=True, inplace=True)"
   ]
  },
  {
   "cell_type": "markdown",
   "id": "a29f381b-4c55-4c46-a5f7-b482a2d7ae90",
   "metadata": {},
   "source": [
    "## Replace unknown values with NaN"
   ]
  },
  {
   "cell_type": "code",
   "execution_count": 6,
   "id": "7b4a0dfd-7770-469a-8730-c565fea978ed",
   "metadata": {},
   "outputs": [
    {
     "data": {
      "text/html": [
       "<div>\n",
       "<style scoped>\n",
       "    .dataframe tbody tr th:only-of-type {\n",
       "        vertical-align: middle;\n",
       "    }\n",
       "\n",
       "    .dataframe tbody tr th {\n",
       "        vertical-align: top;\n",
       "    }\n",
       "\n",
       "    .dataframe thead th {\n",
       "        text-align: right;\n",
       "    }\n",
       "</style>\n",
       "<table border=\"1\" class=\"dataframe\">\n",
       "  <thead>\n",
       "    <tr style=\"text-align: right;\">\n",
       "      <th></th>\n",
       "      <th>Attribute</th>\n",
       "      <th>Description</th>\n",
       "      <th>Value</th>\n",
       "      <th>Meaning</th>\n",
       "    </tr>\n",
       "  </thead>\n",
       "  <tbody>\n",
       "    <tr>\n",
       "      <th>0</th>\n",
       "      <td>AGER_TYP</td>\n",
       "      <td>best-ager typology</td>\n",
       "      <td>-1</td>\n",
       "      <td>unknown</td>\n",
       "    </tr>\n",
       "    <tr>\n",
       "      <th>1</th>\n",
       "      <td>NaN</td>\n",
       "      <td>NaN</td>\n",
       "      <td>0</td>\n",
       "      <td>no classification possible</td>\n",
       "    </tr>\n",
       "    <tr>\n",
       "      <th>2</th>\n",
       "      <td>NaN</td>\n",
       "      <td>NaN</td>\n",
       "      <td>1</td>\n",
       "      <td>passive elderly</td>\n",
       "    </tr>\n",
       "    <tr>\n",
       "      <th>3</th>\n",
       "      <td>NaN</td>\n",
       "      <td>NaN</td>\n",
       "      <td>2</td>\n",
       "      <td>cultural elderly</td>\n",
       "    </tr>\n",
       "    <tr>\n",
       "      <th>4</th>\n",
       "      <td>NaN</td>\n",
       "      <td>NaN</td>\n",
       "      <td>3</td>\n",
       "      <td>experience-driven elderly</td>\n",
       "    </tr>\n",
       "    <tr>\n",
       "      <th>5</th>\n",
       "      <td>ALTERSKATEGORIE_GROB</td>\n",
       "      <td>age classification through prename analysis</td>\n",
       "      <td>-1, 0</td>\n",
       "      <td>unknown</td>\n",
       "    </tr>\n",
       "    <tr>\n",
       "      <th>6</th>\n",
       "      <td>NaN</td>\n",
       "      <td>NaN</td>\n",
       "      <td>1</td>\n",
       "      <td>&lt; 30 years</td>\n",
       "    </tr>\n",
       "    <tr>\n",
       "      <th>7</th>\n",
       "      <td>NaN</td>\n",
       "      <td>NaN</td>\n",
       "      <td>2</td>\n",
       "      <td>30 - 45 years</td>\n",
       "    </tr>\n",
       "    <tr>\n",
       "      <th>8</th>\n",
       "      <td>NaN</td>\n",
       "      <td>NaN</td>\n",
       "      <td>3</td>\n",
       "      <td>46 - 60 years</td>\n",
       "    </tr>\n",
       "    <tr>\n",
       "      <th>9</th>\n",
       "      <td>NaN</td>\n",
       "      <td>NaN</td>\n",
       "      <td>4</td>\n",
       "      <td>&gt; 60 years</td>\n",
       "    </tr>\n",
       "  </tbody>\n",
       "</table>\n",
       "</div>"
      ],
      "text/plain": [
       "              Attribute                                   Description  Value  \\\n",
       "0              AGER_TYP                            best-ager typology     -1   \n",
       "1                   NaN                                           NaN      0   \n",
       "2                   NaN                                           NaN      1   \n",
       "3                   NaN                                           NaN      2   \n",
       "4                   NaN                                           NaN      3   \n",
       "5  ALTERSKATEGORIE_GROB  age classification through prename analysis   -1, 0   \n",
       "6                   NaN                                           NaN      1   \n",
       "7                   NaN                                           NaN      2   \n",
       "8                   NaN                                           NaN      3   \n",
       "9                   NaN                                           NaN      4   \n",
       "\n",
       "                      Meaning  \n",
       "0                     unknown  \n",
       "1  no classification possible  \n",
       "2             passive elderly  \n",
       "3            cultural elderly  \n",
       "4   experience-driven elderly  \n",
       "5                     unknown  \n",
       "6                  < 30 years  \n",
       "7               30 - 45 years  \n",
       "8               46 - 60 years  \n",
       "9                  > 60 years  "
      ]
     },
     "execution_count": 6,
     "metadata": {},
     "output_type": "execute_result"
    }
   ],
   "source": [
    "attribute_desc_path = 'arvato_data/data/DIAS Attributes - Values 2017.xlsx'\n",
    "attribute_desc_df = pd.read_excel(attribute_desc_path)\n",
    "attribute_desc_df.head(10)"
   ]
  },
  {
   "cell_type": "code",
   "execution_count": 7,
   "id": "d991867e-8d17-4c66-8ecf-7c55d0bfbcce",
   "metadata": {},
   "outputs": [],
   "source": [
    "def get_unknown_values(attribute_desc_df, meaning_keywords=['unknown']):\n",
    "    \"\"\"\n",
    "    Extracts a dictionary mapping each attribute to its 'unknown' values based on meaning keywords.\n",
    "\n",
    "    Parameters:\n",
    "    - attribute_desc_df (pd.DataFrame): DataFrame containing attribute descriptions.\n",
    "    - meaning_keywords (list of str): Keywords indicating an 'unknown' meaning.\n",
    "\n",
    "    Returns:\n",
    "    - dict: Dictionary with attribute names as keys and lists of 'unknown' values as values.\n",
    "    \"\"\"\n",
    "    unknown_values_dict = {}\n",
    "    \n",
    "    # Ensure 'Meaning' column is string type for safe string operations\n",
    "    attribute_desc_df['Meaning'] = attribute_desc_df['Meaning'].astype(str)\n",
    "    \n",
    "    # Iterate over each attribute\n",
    "    for attr in attribute_desc_df['Attribute'].unique():\n",
    "        attr_rows = attribute_desc_df[attribute_desc_df['Attribute'] == attr]\n",
    "        \n",
    "        # Identify rows where 'Meaning' contains any of the given keywords (case-insensitive)\n",
    "        mask = attr_rows['Meaning'].str.contains('|'.join(meaning_keywords), case=False, na=False)\n",
    "        unknown_rows = attr_rows[mask]\n",
    "        \n",
    "        if not unknown_rows.empty:\n",
    "            # Collect all unknown values for this attribute\n",
    "            all_unknown_values = []\n",
    "            for val in unknown_rows['Value'].dropna().unique():\n",
    "                # Split by comma in case multiple unknown values are listed\n",
    "                split_vals = [v.strip() for v in str(val).split(',')]\n",
    "                \n",
    "                # Attempt to convert each split value to int or float\n",
    "                processed_values = []\n",
    "                for v in split_vals:\n",
    "                    try:\n",
    "                        # Try float first to handle cases like '0.0' if any\n",
    "                        # if '.' in v:\n",
    "                        processed_values.append(v)\n",
    "                        # else:\n",
    "                        #     processed_values.append(int(v))\n",
    "                    except ValueError:\n",
    "                        # If conversion fails, keep as string\n",
    "                        processed_values.append(v)\n",
    "                \n",
    "                all_unknown_values.extend(processed_values)\n",
    "\n",
    "            # Store the list of unknown values for this attribute\n",
    "            unknown_values_dict[attr] = list(set(all_unknown_values))  # use set to remove duplicates if needed\n",
    "\n",
    "    return unknown_values_dict"
   ]
  },
  {
   "cell_type": "code",
   "execution_count": 8,
   "id": "38b8fc49-c802-43a7-bf9d-7b3ead38874b",
   "metadata": {
    "scrolled": true
   },
   "outputs": [],
   "source": [
    "unknown_values_dict = get_unknown_values(attribute_desc_df)"
   ]
  },
  {
   "cell_type": "code",
   "execution_count": 9,
   "id": "f64d1b99-81ab-4aaa-aedc-565790398a2f",
   "metadata": {},
   "outputs": [
    {
     "name": "stdout",
     "output_type": "stream",
     "text": [
      "4446769\n"
     ]
    }
   ],
   "source": [
    "print(all_data.isna().sum().sum())"
   ]
  },
  {
   "cell_type": "code",
   "execution_count": 10,
   "id": "9d35fc6d-b069-4e9b-ac43-0e99d2d52fb1",
   "metadata": {},
   "outputs": [
    {
     "name": "stderr",
     "output_type": "stream",
     "text": [
      "/tmp/ipykernel_4347/3741086660.py:3: FutureWarning: The behavior of Series.replace (and DataFrame.replace) with CategoricalDtype is deprecated. In a future version, replace will only be used for cases that preserve the categories. To change the categories, use ser.cat.rename_categories instead.\n",
      "  all_data[col] = all_data[col].replace(unknown_values, np.nan)\n"
     ]
    }
   ],
   "source": [
    "for col, unknown_values in unknown_values_dict.items():\n",
    "    if col in all_data.columns:\n",
    "        all_data[col] = all_data[col].replace(unknown_values, np.nan)"
   ]
  },
  {
   "cell_type": "code",
   "execution_count": 11,
   "id": "fd7180c3-ea2e-4f4a-942b-14b1a4aa68aa",
   "metadata": {},
   "outputs": [
    {
     "name": "stdout",
     "output_type": "stream",
     "text": [
      "4719423\n"
     ]
    }
   ],
   "source": [
    "print(all_data.isna().sum().sum())"
   ]
  },
  {
   "cell_type": "markdown",
   "id": "59002d95-7395-4aa9-b711-1f3dd92a95f9",
   "metadata": {},
   "source": [
    "## Numeric datatype"
   ]
  },
  {
   "cell_type": "code",
   "execution_count": 12,
   "id": "9b0ffce4-9ee2-4a85-8c23-b1d5a6f9b661",
   "metadata": {},
   "outputs": [],
   "source": [
    "def get_numeric_columns(attribute_desc_df, numeric_keywords=['numeric value']):\n",
    "    \"\"\"\n",
    "    Extracts a list of attributes that are described as numeric based on keywords in their descriptions.\n",
    "\n",
    "    Parameters:\n",
    "    - attribute_desc_df (pd.DataFrame): DataFrame containing attribute descriptions.\n",
    "    - numeric_keywords (list of str): Keywords indicating a numeric value.\n",
    "\n",
    "    Returns:\n",
    "    - list: List of attribute names marked as numeric.\n",
    "    \"\"\"\n",
    "    numeric_columns = []\n",
    "    attribute_desc_df['Description'] = attribute_desc_df['Description'].astype(str)\n",
    "    \n",
    "    for attr in attribute_desc_df['Attribute'].unique():\n",
    "        attr_rows = attribute_desc_df[attribute_desc_df['Attribute'] == attr]\n",
    "        mask = attr_rows['Meaning'].str.contains('|'.join(numeric_keywords), case=False, na=False)\n",
    "        if mask.any():\n",
    "            numeric_columns.append(attr)\n",
    "    \n",
    "    return numeric_columns\n"
   ]
  },
  {
   "cell_type": "code",
   "execution_count": 13,
   "id": "50e8200b-c98c-4f62-953b-c4d916e3f883",
   "metadata": {},
   "outputs": [
    {
     "data": {
      "text/plain": [
       "['ANZ_HAUSHALTE_AKTIV',\n",
       " 'ANZ_HH_TITEL',\n",
       " 'ANZ_PERSONEN',\n",
       " 'ANZ_TITEL',\n",
       " 'GEBURTSJAHR',\n",
       " 'KBA13_ANZAHL_PKW',\n",
       " 'MIN_GEBAEUDEJAHR']"
      ]
     },
     "execution_count": 13,
     "metadata": {},
     "output_type": "execute_result"
    }
   ],
   "source": [
    "numeric_columns = get_numeric_columns(attribute_desc_df)\n",
    "numeric_columns"
   ]
  },
  {
   "cell_type": "code",
   "execution_count": 14,
   "id": "fab86775-ceaa-4202-8cef-573d154c126f",
   "metadata": {},
   "outputs": [],
   "source": [
    "def convert_to_numeric(df, numeric_columns):\n",
    "    \"\"\"\n",
    "    Converts specified columns in a DataFrame to numeric, coercing errors to NaN.\n",
    "    \n",
    "    Parameters:\n",
    "    - df (pd.DataFrame): The DataFrame to process.\n",
    "    - numeric_columns (list): List of column names to convert to numeric.\n",
    "    \n",
    "    Returns:\n",
    "    - pd.DataFrame: The updated DataFrame.\n",
    "    \"\"\"\n",
    "    for col in numeric_columns:\n",
    "        if col in df.columns:\n",
    "            df[col] = pd.to_numeric(df[col], errors='coerce').astype('float32')\n",
    "\n",
    "        else:\n",
    "            print(f\"Column '{col}' not found in DataFrame.\")\n",
    "    return df\n",
    "    "
   ]
  },
  {
   "cell_type": "code",
   "execution_count": 15,
   "id": "fd0b4155-a47f-4544-892d-8dddac9c3246",
   "metadata": {},
   "outputs": [
    {
     "data": {
      "text/plain": [
       "ANZ_HAUSHALTE_AKTIV    float32\n",
       "ANZ_HH_TITEL           float32\n",
       "ANZ_PERSONEN           float32\n",
       "ANZ_TITEL              float32\n",
       "GEBURTSJAHR            float32\n",
       "KBA13_ANZAHL_PKW       float32\n",
       "MIN_GEBAEUDEJAHR       float32\n",
       "dtype: object"
      ]
     },
     "execution_count": 15,
     "metadata": {},
     "output_type": "execute_result"
    }
   ],
   "source": [
    "all_data = convert_to_numeric(all_data, numeric_columns)\n",
    "\n",
    "all_data[numeric_columns].dtypes"
   ]
  },
  {
   "cell_type": "markdown",
   "id": "3d18be2d-918c-4ccf-902d-86ae976c144c",
   "metadata": {},
   "source": [
    "## Binary datatype"
   ]
  },
  {
   "cell_type": "code",
   "execution_count": 16,
   "id": "cd7905cc-31fe-48c1-9aa5-2c936585a784",
   "metadata": {},
   "outputs": [
    {
     "data": {
      "text/plain": [
       "['DSL_FLAG',\n",
       " 'GREEN_AVANTGARDE',\n",
       " 'HH_DELTA_FLAG',\n",
       " 'KBA05_SEG6',\n",
       " 'KONSUMZELLE',\n",
       " 'OST_WEST_KZ',\n",
       " 'SOHO_KZ',\n",
       " 'UNGLEICHENN_FLAG',\n",
       " 'VERS_TYP',\n",
       " 'RESPONSE',\n",
       " 'ANREDE_KZ',\n",
       " 'type']"
      ]
     },
     "execution_count": 16,
     "metadata": {},
     "output_type": "execute_result"
    }
   ],
   "source": [
    "binary_cols = []\n",
    "for col in all_data.columns:\n",
    "    n_unique = all_data[col].dropna().nunique()\n",
    "    if n_unique == 2:\n",
    "        binary_cols.append(col)\n",
    "binary_cols  "
   ]
  },
  {
   "cell_type": "markdown",
   "id": "5e96b8b2-ff48-4c31-943f-c5f1ed98889a",
   "metadata": {},
   "source": [
    "Set these columns to category to prevent a numerical processing of these features"
   ]
  },
  {
   "cell_type": "code",
   "execution_count": 17,
   "id": "1d31cc42-0747-489a-bfbb-39121c02ca36",
   "metadata": {},
   "outputs": [],
   "source": [
    "# They should already be category, but just a safety net\n",
    "all_data[binary_cols] = all_data[binary_cols].astype('category')"
   ]
  },
  {
   "cell_type": "markdown",
   "id": "97a8a99e-52e9-4dcf-92ab-c2e59c20af9c",
   "metadata": {},
   "source": [
    "# Remove/Transform Features"
   ]
  },
  {
   "cell_type": "markdown",
   "id": "bf8d3adb-ad10-41e4-8476-0ff0cf26c3f1",
   "metadata": {},
   "source": [
    "LNR is a unique identifier.  EINGEFUEGT_AM is a date item.  we could chunk it and classify it into chunks, but for this project we will simply drop it to save on time."
   ]
  },
  {
   "cell_type": "code",
   "execution_count": 18,
   "id": "b84830e7-2e98-4f29-8861-a3207ad5f8ca",
   "metadata": {},
   "outputs": [],
   "source": [
    "columns_to_drop = ['LNR']"
   ]
  },
  {
   "cell_type": "markdown",
   "id": "2e62cadd-b6a9-4643-9a7b-81b0d07e16bd",
   "metadata": {},
   "source": [
    "## Binning birth year"
   ]
  },
  {
   "cell_type": "code",
   "execution_count": 19,
   "id": "1637fc06-802d-4659-bdc7-05ae20bc638d",
   "metadata": {},
   "outputs": [
    {
     "data": {
      "text/plain": [
       "0           NaN\n",
       "1        1957.0\n",
       "2        1929.0\n",
       "3        1924.0\n",
       "4        1936.0\n",
       "          ...  \n",
       "85790       NaN\n",
       "85791    1943.0\n",
       "85792    1966.0\n",
       "85793       NaN\n",
       "85794       NaN\n",
       "Name: GEBURTSJAHR, Length: 85795, dtype: float32"
      ]
     },
     "execution_count": 19,
     "metadata": {},
     "output_type": "execute_result"
    }
   ],
   "source": [
    "all_data['GEBURTSJAHR'] = all_data['GEBURTSJAHR'].replace(0.0, np.nan)\n",
    "all_data['GEBURTSJAHR']"
   ]
  },
  {
   "cell_type": "code",
   "execution_count": 20,
   "id": "9cde091d-a684-47a2-8952-9ba0d59aa262",
   "metadata": {},
   "outputs": [],
   "source": [
    "all_data['GEBURTSJAHR'] = pd.to_numeric(all_data['GEBURTSJAHR'], errors='coerce')"
   ]
  },
  {
   "cell_type": "code",
   "execution_count": 21,
   "id": "a53078d3-4254-4f2c-9901-0b5bd57abfd6",
   "metadata": {},
   "outputs": [
    {
     "name": "stdout",
     "output_type": "stream",
     "text": [
      "GEBURTSJAHR_BINNED\n",
      "1900-1909       10\n",
      "1910-1919      185\n",
      "1920-1929     3980\n",
      "1930-1939    12323\n",
      "1940-1949    12764\n",
      "1950-1959    10286\n",
      "1960-1969     6716\n",
      "1970-1979     2682\n",
      "1980-1989     1249\n",
      "1990-1999      454\n",
      "2000-2009       17\n",
      "2010-2019       71\n",
      "Name: count, dtype: int64\n"
     ]
    }
   ],
   "source": [
    "# bins for 10-year intervals\n",
    "bins = range(1900, 2021, 10)\n",
    "labels = [f\"{start}-{start+9}\" for start in bins[:-1]]\n",
    "\n",
    "all_data['GEBURTSJAHR_BINNED'] = pd.cut(\n",
    "    all_data['GEBURTSJAHR'], \n",
    "    bins=bins, \n",
    "    labels=labels, \n",
    "    right=False  # Include the left bin edge, exclude the right\n",
    ")\n",
    "\n",
    "binned_counts = all_data['GEBURTSJAHR_BINNED'].value_counts().sort_index()\n",
    "print(binned_counts)"
   ]
  },
  {
   "cell_type": "code",
   "execution_count": 22,
   "id": "ba2f914c-4f46-4604-b2d1-4e76d7412a77",
   "metadata": {},
   "outputs": [],
   "source": [
    "all_data['GEBURTSJAHR_BINNED'] = all_data['GEBURTSJAHR_BINNED'].astype('category')"
   ]
  },
  {
   "cell_type": "code",
   "execution_count": 23,
   "id": "0fb1527f-286a-4df9-85e9-bbb9f9a77745",
   "metadata": {},
   "outputs": [],
   "source": [
    "all_data = all_data.drop(columns=['GEBURTSJAHR'])"
   ]
  },
  {
   "cell_type": "code",
   "execution_count": 24,
   "id": "446f4ef7-8ab6-455d-9557-d11dc67d0df3",
   "metadata": {},
   "outputs": [],
   "source": [
    "numeric_columns.remove(\"GEBURTSJAHR\")"
   ]
  },
  {
   "cell_type": "markdown",
   "id": "fc0d3fa7-86e2-49e4-8783-c32e84585fee",
   "metadata": {},
   "source": [
    "## Date columns"
   ]
  },
  {
   "cell_type": "markdown",
   "id": "05d99c67-9769-4d84-b0a3-57ac1fff3d1d",
   "metadata": {},
   "source": [
    "EINGEFUEGT_AM is a date column so we will process it into smaller columns and drop it.  Here we use every five years.  This value was arbirarily chosen.  Further EDA would be needed to choose an intelligent number."
   ]
  },
  {
   "cell_type": "code",
   "execution_count": 25,
   "id": "0046a165-18f3-461a-9bed-76de78347f73",
   "metadata": {},
   "outputs": [],
   "source": [
    "all_data['EINGEFUEGT_AM'] = pd.to_datetime(all_data['EINGEFUEGT_AM'], errors='coerce')\n",
    "\n",
    "# Extract year and month\n",
    "years = all_data['EINGEFUEGT_AM'].dt.year\n",
    "all_data['Month'] = all_data['EINGEFUEGT_AM'].dt.month\n",
    "\n",
    "min_year = years.min()\n",
    "max_year = years.max()\n",
    "\n",
    "# Create bins for every 5 years\n",
    "bins = range(int(min_year), int(max_year + 6), 5)  # step of 5\n",
    "\n",
    "# Use pd.cut to bin the years into intervals\n",
    "all_data['Year_5yr_Bin'] = pd.cut(years, bins=bins, right=False)"
   ]
  },
  {
   "cell_type": "code",
   "execution_count": 26,
   "id": "b408ec66-8599-474a-8956-eee92d73c138",
   "metadata": {},
   "outputs": [
    {
     "name": "stdout",
     "output_type": "stream",
     "text": [
      "['[1991, 1996)', '[1996, 2001)', '[2001, 2006)', '[2006, 2011)', '[2011, 2016)']\n"
     ]
    }
   ],
   "source": [
    "# Extract the intervals from the category\n",
    "intervals = all_data['Year_5yr_Bin'].cat.categories\n",
    "\n",
    "# Create string labels for each interval\n",
    "interval_labels = [f\"[{int(interval.left)}, {int(interval.right)})\" for interval in intervals]\n",
    "\n",
    "print(interval_labels)"
   ]
  },
  {
   "cell_type": "code",
   "execution_count": 27,
   "id": "09dd0df9-84b2-4327-b9e1-72d2b1f387a3",
   "metadata": {},
   "outputs": [],
   "source": [
    "all_data['Year_5yr_Bin'] = all_data['Year_5yr_Bin'].cat.rename_categories(interval_labels)"
   ]
  },
  {
   "cell_type": "code",
   "execution_count": 28,
   "id": "e1d80775-9bbd-460e-bb98-5c9e56d0b8c0",
   "metadata": {},
   "outputs": [],
   "source": [
    "all_data['Year_5yr_Bin'] = all_data['Year_5yr_Bin'].astype('category')\n",
    "all_data['Month'] = all_data['Month'].astype('category')"
   ]
  },
  {
   "cell_type": "code",
   "execution_count": 29,
   "id": "f1bd62cd-c9b9-47ef-a025-803f4750f852",
   "metadata": {},
   "outputs": [],
   "source": [
    "columns_to_drop.append('EINGEFUEGT_AM')"
   ]
  },
  {
   "cell_type": "code",
   "execution_count": 30,
   "id": "d9c7e33c-20fd-4f93-b05a-5b0fc408f4c4",
   "metadata": {},
   "outputs": [],
   "source": [
    "all_data = all_data.drop(columns=columns_to_drop)"
   ]
  },
  {
   "cell_type": "markdown",
   "id": "8f799b83-a6f7-4e0f-87c1-c3511d5f0e02",
   "metadata": {},
   "source": [
    "## Reduce Scewing in Numerical distributions"
   ]
  },
  {
   "cell_type": "code",
   "execution_count": 31,
   "id": "8f11ec65-fe17-47f4-bc65-498623265a31",
   "metadata": {},
   "outputs": [],
   "source": [
    "numeric_data = all_data[numeric_columns]"
   ]
  },
  {
   "cell_type": "code",
   "execution_count": 32,
   "id": "1683c121-da00-48c8-b7e0-510ee122528e",
   "metadata": {},
   "outputs": [
    {
     "data": {
      "text/html": [
       "<div>\n",
       "<style scoped>\n",
       "    .dataframe tbody tr th:only-of-type {\n",
       "        vertical-align: middle;\n",
       "    }\n",
       "\n",
       "    .dataframe tbody tr th {\n",
       "        vertical-align: top;\n",
       "    }\n",
       "\n",
       "    .dataframe thead th {\n",
       "        text-align: right;\n",
       "    }\n",
       "</style>\n",
       "<table border=\"1\" class=\"dataframe\">\n",
       "  <thead>\n",
       "    <tr style=\"text-align: right;\">\n",
       "      <th></th>\n",
       "      <th>ANZ_HAUSHALTE_AKTIV</th>\n",
       "      <th>ANZ_HH_TITEL</th>\n",
       "      <th>ANZ_PERSONEN</th>\n",
       "      <th>ANZ_TITEL</th>\n",
       "      <th>KBA13_ANZAHL_PKW</th>\n",
       "      <th>MIN_GEBAEUDEJAHR</th>\n",
       "    </tr>\n",
       "  </thead>\n",
       "  <tbody>\n",
       "    <tr>\n",
       "      <th>0</th>\n",
       "      <td>15.0</td>\n",
       "      <td>0.0</td>\n",
       "      <td>1.0</td>\n",
       "      <td>0.0</td>\n",
       "      <td>390.0</td>\n",
       "      <td>1992.0</td>\n",
       "    </tr>\n",
       "    <tr>\n",
       "      <th>1</th>\n",
       "      <td>1.0</td>\n",
       "      <td>0.0</td>\n",
       "      <td>2.0</td>\n",
       "      <td>0.0</td>\n",
       "      <td>586.0</td>\n",
       "      <td>1994.0</td>\n",
       "    </tr>\n",
       "    <tr>\n",
       "      <th>2</th>\n",
       "      <td>0.0</td>\n",
       "      <td>NaN</td>\n",
       "      <td>0.0</td>\n",
       "      <td>0.0</td>\n",
       "      <td>297.0</td>\n",
       "      <td>1995.0</td>\n",
       "    </tr>\n",
       "    <tr>\n",
       "      <th>3</th>\n",
       "      <td>4.0</td>\n",
       "      <td>0.0</td>\n",
       "      <td>2.0</td>\n",
       "      <td>0.0</td>\n",
       "      <td>373.0</td>\n",
       "      <td>1992.0</td>\n",
       "    </tr>\n",
       "    <tr>\n",
       "      <th>4</th>\n",
       "      <td>53.0</td>\n",
       "      <td>0.0</td>\n",
       "      <td>1.0</td>\n",
       "      <td>0.0</td>\n",
       "      <td>285.0</td>\n",
       "      <td>1992.0</td>\n",
       "    </tr>\n",
       "  </tbody>\n",
       "</table>\n",
       "</div>"
      ],
      "text/plain": [
       "   ANZ_HAUSHALTE_AKTIV  ANZ_HH_TITEL  ANZ_PERSONEN  ANZ_TITEL  \\\n",
       "0                 15.0           0.0           1.0        0.0   \n",
       "1                  1.0           0.0           2.0        0.0   \n",
       "2                  0.0           NaN           0.0        0.0   \n",
       "3                  4.0           0.0           2.0        0.0   \n",
       "4                 53.0           0.0           1.0        0.0   \n",
       "\n",
       "   KBA13_ANZAHL_PKW  MIN_GEBAEUDEJAHR  \n",
       "0             390.0            1992.0  \n",
       "1             586.0            1994.0  \n",
       "2             297.0            1995.0  \n",
       "3             373.0            1992.0  \n",
       "4             285.0            1992.0  "
      ]
     },
     "execution_count": 32,
     "metadata": {},
     "output_type": "execute_result"
    }
   ],
   "source": [
    "numeric_data.head()"
   ]
  },
  {
   "cell_type": "code",
   "execution_count": 33,
   "id": "d40199f6-7fdc-4323-95b9-86c30cf42c1b",
   "metadata": {},
   "outputs": [
    {
     "data": {
      "image/png": "[encoded data removed]",
      "text/plain": [
       "<Figure size 1200x800 with 1 Axes>"
      ]
     },
     "metadata": {},
     "output_type": "display_data"
    }
   ],
   "source": [
    "# Normalize the data (Min-Max Scaling)\n",
    "normalized_data = (numeric_data - numeric_data.min()) / (numeric_data.max() - numeric_data.min())\n",
    "\n",
    "# Plot the distributions\n",
    "plt.figure(figsize=(12, 8))\n",
    "for column in normalized_data.columns:\n",
    "    # Plot the histogram of each column\n",
    "    sns.kdeplot(normalized_data[column], label=column, fill=True, alpha=0.5)\n",
    "\n",
    "plt.title('Normalized Distributions of Numeric Columns', fontsize=16)\n",
    "plt.xlabel('Normalized Value', fontsize=12)\n",
    "plt.ylabel('Density', fontsize=12)\n",
    "plt.legend(title='Columns')\n",
    "plt.show()"
   ]
  },
  {
   "cell_type": "markdown",
   "id": "15be652f-4a3d-4437-adbf-41700aacbd19",
   "metadata": {},
   "source": [
    "It seems obvious that many of the distributions are scewed, but lets do a numerical calcualtion"
   ]
  },
  {
   "cell_type": "code",
   "execution_count": 34,
   "id": "92acdff7-de16-439c-8f42-182d417659dc",
   "metadata": {},
   "outputs": [
    {
     "name": "stdout",
     "output_type": "stream",
     "text": [
      "Skewness of each column:\n",
      "ANZ_HAUSHALTE_AKTIV     8.572865\n",
      "ANZ_HH_TITEL           21.508394\n",
      "ANZ_PERSONEN            1.140757\n",
      "ANZ_TITEL              11.743562\n",
      "KBA13_ANZAHL_PKW        1.297599\n",
      "MIN_GEBAEUDEJAHR        4.154490\n",
      "dtype: float32\n",
      "Columns with high skewness: ['ANZ_HAUSHALTE_AKTIV', 'ANZ_HH_TITEL', 'ANZ_PERSONEN', 'ANZ_TITEL', 'KBA13_ANZAHL_PKW', 'MIN_GEBAEUDEJAHR']\n"
     ]
    }
   ],
   "source": [
    "# Calculate skewness for each column\n",
    "skewness_values = all_data[numeric_columns].skew()\n",
    "print(\"Skewness of each column:\")\n",
    "print(skewness_values)\n",
    "\n",
    "# Identify columns with high skewness (e.g., skewness > 1 or < -1)\n",
    "high_skew_columns = skewness_values[abs(skewness_values) > 1].index.tolist()\n",
    "print(\"Columns with high skewness:\", high_skew_columns)"
   ]
  },
  {
   "cell_type": "code",
   "execution_count": 35,
   "id": "49b12d34-3ca6-4640-8e73-8e97521355ee",
   "metadata": {},
   "outputs": [],
   "source": [
    "# Log transform highly skewed columns and update azdias\n",
    "for col in high_skew_columns:\n",
    "    all_data[col] = np.log1p(all_data[col])\n"
   ]
  },
  {
   "cell_type": "code",
   "execution_count": 36,
   "id": "76a28a8c-d6f2-43d7-9623-a4f609b4e8de",
   "metadata": {},
   "outputs": [
    {
     "name": "stdout",
     "output_type": "stream",
     "text": [
      "\n",
      "Skewness After Log Transformation:\n",
      "ANZ_HAUSHALTE_AKTIV     1.124921\n",
      "ANZ_HH_TITEL            6.849349\n",
      "ANZ_PERSONEN           -0.257064\n",
      "ANZ_TITEL              10.657099\n",
      "KBA13_ANZAHL_PKW       -0.588755\n",
      "MIN_GEBAEUDEJAHR        4.141036\n",
      "dtype: float32\n"
     ]
    }
   ],
   "source": [
    "transformed_skewness = all_data[numeric_columns].skew()\n",
    "print(\"\\nSkewness After Log Transformation:\")\n",
    "print(transformed_skewness)"
   ]
  },
  {
   "cell_type": "code",
   "execution_count": 37,
   "id": "5da7c340-fa75-45e8-98e1-85b524b0fe2a",
   "metadata": {},
   "outputs": [
    {
     "data": {
      "text/plain": [
       "ANZ_TITEL\n",
       "0.000000    71258\n",
       "0.693147      622\n",
       "1.098612       55\n",
       "1.386294        2\n",
       "Name: count, dtype: int64"
      ]
     },
     "execution_count": 37,
     "metadata": {},
     "output_type": "execute_result"
    }
   ],
   "source": [
    "all_data['ANZ_TITEL'].value_counts()"
   ]
  },
  {
   "cell_type": "code",
   "execution_count": 38,
   "id": "89b7db46-cf67-461e-bf74-68cb8cc722fe",
   "metadata": {},
   "outputs": [
    {
     "name": "stdout",
     "output_type": "stream",
     "text": [
      "0.990561185481741\n"
     ]
    }
   ],
   "source": [
    "first_freq = all_data['ANZ_TITEL'].value_counts().iloc[0]\n",
    "total_items= all_data['ANZ_TITEL'].notna().sum()\n",
    "print(first_freq/total_items)"
   ]
  },
  {
   "cell_type": "markdown",
   "id": "304654fc-edbb-4ab9-945d-fb98127e86d6",
   "metadata": {},
   "source": [
    "Considering 99% of the data is just one value we will just drop this column"
   ]
  },
  {
   "cell_type": "markdown",
   "id": "324151c9-3cc1-45bd-9d3b-dd62d46c22fd",
   "metadata": {},
   "source": [
    "this helped with some of the skewing, but ANZ_TITEL is still highly scewed. lets take a closer look at it"
   ]
  },
  {
   "cell_type": "code",
   "execution_count": 39,
   "id": "ed1328ea-c36b-4c3a-afa0-56b520a9f37e",
   "metadata": {},
   "outputs": [],
   "source": [
    "all_data = all_data.drop(columns='ANZ_TITEL')"
   ]
  },
  {
   "cell_type": "code",
   "execution_count": 40,
   "id": "b960cd16-de4b-45fa-8acb-e79149ac9520",
   "metadata": {},
   "outputs": [],
   "source": [
    "numeric_columns.remove(\"ANZ_TITEL\")"
   ]
  },
  {
   "cell_type": "markdown",
   "id": "18ecf14b-15e9-4792-9e32-f0b5931dc731",
   "metadata": {},
   "source": [
    "# Encode high dimentional features"
   ]
  },
  {
   "cell_type": "markdown",
   "id": "c2a868b4-6576-4e1f-b645-13269ad01ad0",
   "metadata": {},
   "source": [
    "Generally, when the number of unique categories is high, one-hot encoding becomes impractical as it produces a large number of columns. For these high-cardinality categorical variables, frequency encoding can help reduce the feature space."
   ]
  },
  {
   "cell_type": "code",
   "execution_count": 44,
   "id": "0d40c997-537c-4f3b-874a-a4328203daf2",
   "metadata": {},
   "outputs": [],
   "source": [
    "# Count the total number of unique categories across all categorical columns\n",
    "total_unique_categories = [(col, all_data[col].nunique()) for col in cat_columns]\n",
    "# Sort the list by the nunique count in descending order\n",
    "sorted_unique_categories = sorted(total_unique_categories, key=lambda x: x[1], reverse=True)"
   ]
  },
  {
   "cell_type": "code",
   "execution_count": 45,
   "id": "ba3cf42f-1e10-4282-92f4-1ee411427997",
   "metadata": {},
   "outputs": [
    {
     "name": "stdout",
     "output_type": "stream",
     "text": [
      "('EXTSEL992', 56)\n"
     ]
    }
   ],
   "source": [
    "cat_columns = all_data.select_dtypes(['category']).columns\n",
    "# Count the total number of unique categories across all categorical columns\n",
    "total_unique_categories = [(col, all_data[col].nunique()) for col in cat_columns]\n",
    "# Sort the list by the nunique count in descending order\n",
    "sorted_unique_categories = sorted(total_unique_categories, key=lambda x: x[1], reverse=True)\n",
    "\n",
    "for row in sorted_unique_categories:\n",
    "    name,val = row\n",
    "    if val > 50:\n",
    "        print(row)"
   ]
  },
  {
   "cell_type": "markdown",
   "id": "8ac03adb-0daa-469c-a7a2-0c26c87e7e8a",
   "metadata": {},
   "source": [
    "Lets go ahead and frequency encode the top 4 features"
   ]
  },
  {
   "cell_type": "code",
   "execution_count": 46,
   "id": "49382d85-5fe6-42e3-8e00-97cc24830e29",
   "metadata": {},
   "outputs": [
    {
     "name": "stdout",
     "output_type": "stream",
     "text": [
      "EXTSEL992\n"
     ]
    }
   ],
   "source": [
    "for col, unique_count in sorted_unique_categories:\n",
    "    if unique_count > 50:  # Arbitrary threshold\n",
    "        print(col)\n",
    "        freq = all_data[col].value_counts()\n",
    "        all_data[col + '_freq'] = all_data[col].map(freq)\n",
    "        all_data = all_data.drop(columns=[col])"
   ]
  },
  {
   "cell_type": "code",
   "execution_count": 47,
   "id": "991857c8-0e41-41ca-a1d5-27d295a6a313",
   "metadata": {},
   "outputs": [],
   "source": [
    "cat_columns = all_data.select_dtypes(['category']).columns\n",
    "# Count the total number of unique categories across all categorical columns\n",
    "total_unique_categories = [(col, all_data[col].nunique()) for col in cat_columns]\n",
    "# Sort the list by the nunique count in descending order\n",
    "sorted_unique_categories = sorted(total_unique_categories, key=lambda x: x[1], reverse=True)\n",
    "for row in sorted_unique_categories:\n",
    "    name,val = row\n",
    "    if val > 50:\n",
    "        print(row)"
   ]
  },
  {
   "cell_type": "code",
   "execution_count": null,
   "id": "74762ba3-92a3-400a-b7f3-f301f6d41684",
   "metadata": {},
   "outputs": [],
   "source": []
  },
  {
   "cell_type": "markdown",
   "id": "e57b94fc-fbf9-4bc8-8d3d-893c85addfe2",
   "metadata": {},
   "source": [
    "# Standardize features and reduce memory footprint"
   ]
  },
  {
   "cell_type": "code",
   "execution_count": 48,
   "id": "31d6f940-163c-4772-a8e4-682c22199481",
   "metadata": {},
   "outputs": [
    {
     "name": "stdout",
     "output_type": "stream",
     "text": [
      "Numeric Columns: ['EXTSEL992_freq']\n"
     ]
    }
   ],
   "source": [
    "# Assuming 'all_data' is your DataFrame\n",
    "# numeric_cols = all_data.select_dtypes(include=['float64', 'float32', 'int64', 'int32']).columns.tolist()\n",
    "numeric_cols = all_data.select_dtypes(include=['float64',  'int64', ]).columns.tolist()\n",
    "print(\"Numeric Columns:\", numeric_cols)"
   ]
  },
  {
   "cell_type": "code",
   "execution_count": 49,
   "id": "6aafbc71-7b9f-4a84-bca7-17a57bef825d",
   "metadata": {},
   "outputs": [
    {
     "data": {
      "text/plain": [
       "Index(['EXTSEL992_freq'], dtype='object')"
      ]
     },
     "execution_count": 49,
     "metadata": {},
     "output_type": "execute_result"
    }
   ],
   "source": [
    "# Separate numerical and categorical columns\n",
    "num64_cols = all_data.select_dtypes(include=['int64', 'float64']).columns\n",
    "num64_cols"
   ]
  },
  {
   "cell_type": "code",
   "execution_count": 50,
   "id": "6e9323e6-cc21-444c-82f9-e69f750dd5ee",
   "metadata": {},
   "outputs": [],
   "source": [
    "all_data[num64_cols] = all_data[num64_cols].astype('float32')"
   ]
  },
  {
   "cell_type": "code",
   "execution_count": 51,
   "id": "19cfdba5-ba19-42f3-aae4-0f07e4d4a813",
   "metadata": {},
   "outputs": [],
   "source": [
    "numeric_cols = all_data.select_dtypes(include=['float32', 'int32']).columns.tolist()"
   ]
  },
  {
   "cell_type": "code",
   "execution_count": 52,
   "id": "0df70b57-3fe2-4c05-99fa-15fd5a399941",
   "metadata": {},
   "outputs": [
    {
     "data": {
      "text/plain": [
       "['ANZ_HAUSHALTE_AKTIV',\n",
       " 'ANZ_HH_TITEL',\n",
       " 'ANZ_PERSONEN',\n",
       " 'KBA13_ANZAHL_PKW',\n",
       " 'MIN_GEBAEUDEJAHR',\n",
       " 'EXTSEL992_freq']"
      ]
     },
     "execution_count": 52,
     "metadata": {},
     "output_type": "execute_result"
    }
   ],
   "source": [
    "numeric_cols"
   ]
  },
  {
   "cell_type": "code",
   "execution_count": 53,
   "id": "7dc09177-fd57-4e34-b551-b76d9791f4f1",
   "metadata": {},
   "outputs": [
    {
     "data": {
      "text/html": [
       "<div>\n",
       "<style scoped>\n",
       "    .dataframe tbody tr th:only-of-type {\n",
       "        vertical-align: middle;\n",
       "    }\n",
       "\n",
       "    .dataframe tbody tr th {\n",
       "        vertical-align: top;\n",
       "    }\n",
       "\n",
       "    .dataframe thead th {\n",
       "        text-align: right;\n",
       "    }\n",
       "</style>\n",
       "<table border=\"1\" class=\"dataframe\">\n",
       "  <thead>\n",
       "    <tr style=\"text-align: right;\">\n",
       "      <th></th>\n",
       "      <th>ANZ_HAUSHALTE_AKTIV</th>\n",
       "      <th>ANZ_HH_TITEL</th>\n",
       "      <th>ANZ_PERSONEN</th>\n",
       "      <th>KBA13_ANZAHL_PKW</th>\n",
       "      <th>MIN_GEBAEUDEJAHR</th>\n",
       "      <th>EXTSEL992_freq</th>\n",
       "    </tr>\n",
       "  </thead>\n",
       "  <tbody>\n",
       "    <tr>\n",
       "      <th>count</th>\n",
       "      <td>70391.000000</td>\n",
       "      <td>69403.000000</td>\n",
       "      <td>71937.000000</td>\n",
       "      <td>69992.000000</td>\n",
       "      <td>70391.000000</td>\n",
       "      <td>54038.000000</td>\n",
       "    </tr>\n",
       "    <tr>\n",
       "      <th>mean</th>\n",
       "      <td>1.456662</td>\n",
       "      <td>0.027769</td>\n",
       "      <td>1.006662</td>\n",
       "      <td>6.287799</td>\n",
       "      <td>7.597831</td>\n",
       "      <td>4340.328125</td>\n",
       "    </tr>\n",
       "    <tr>\n",
       "      <th>std</th>\n",
       "      <td>0.925239</td>\n",
       "      <td>0.155860</td>\n",
       "      <td>0.452679</td>\n",
       "      <td>0.556104</td>\n",
       "      <td>0.001235</td>\n",
       "      <td>4517.605957</td>\n",
       "    </tr>\n",
       "    <tr>\n",
       "      <th>min</th>\n",
       "      <td>0.000000</td>\n",
       "      <td>0.000000</td>\n",
       "      <td>0.000000</td>\n",
       "      <td>0.000000</td>\n",
       "      <td>7.593878</td>\n",
       "      <td>2.000000</td>\n",
       "    </tr>\n",
       "    <tr>\n",
       "      <th>25%</th>\n",
       "      <td>0.693147</td>\n",
       "      <td>0.000000</td>\n",
       "      <td>0.693147</td>\n",
       "      <td>5.966147</td>\n",
       "      <td>7.597396</td>\n",
       "      <td>1062.000000</td>\n",
       "    </tr>\n",
       "    <tr>\n",
       "      <th>50%</th>\n",
       "      <td>1.098612</td>\n",
       "      <td>0.000000</td>\n",
       "      <td>1.098612</td>\n",
       "      <td>6.309918</td>\n",
       "      <td>7.597396</td>\n",
       "      <td>2471.000000</td>\n",
       "    </tr>\n",
       "    <tr>\n",
       "      <th>75%</th>\n",
       "      <td>2.079442</td>\n",
       "      <td>0.000000</td>\n",
       "      <td>1.386294</td>\n",
       "      <td>6.650279</td>\n",
       "      <td>7.597396</td>\n",
       "      <td>5027.000000</td>\n",
       "    </tr>\n",
       "    <tr>\n",
       "      <th>max</th>\n",
       "      <td>6.084499</td>\n",
       "      <td>3.044523</td>\n",
       "      <td>3.218876</td>\n",
       "      <td>7.741099</td>\n",
       "      <td>7.608871</td>\n",
       "      <td>12328.000000</td>\n",
       "    </tr>\n",
       "  </tbody>\n",
       "</table>\n",
       "</div>"
      ],
      "text/plain": [
       "       ANZ_HAUSHALTE_AKTIV  ANZ_HH_TITEL  ANZ_PERSONEN  KBA13_ANZAHL_PKW  \\\n",
       "count         70391.000000  69403.000000  71937.000000      69992.000000   \n",
       "mean              1.456662      0.027769      1.006662          6.287799   \n",
       "std               0.925239      0.155860      0.452679          0.556104   \n",
       "min               0.000000      0.000000      0.000000          0.000000   \n",
       "25%               0.693147      0.000000      0.693147          5.966147   \n",
       "50%               1.098612      0.000000      1.098612          6.309918   \n",
       "75%               2.079442      0.000000      1.386294          6.650279   \n",
       "max               6.084499      3.044523      3.218876          7.741099   \n",
       "\n",
       "       MIN_GEBAEUDEJAHR  EXTSEL992_freq  \n",
       "count      70391.000000    54038.000000  \n",
       "mean           7.597831     4340.328125  \n",
       "std            0.001235     4517.605957  \n",
       "min            7.593878        2.000000  \n",
       "25%            7.597396     1062.000000  \n",
       "50%            7.597396     2471.000000  \n",
       "75%            7.597396     5027.000000  \n",
       "max            7.608871    12328.000000  "
      ]
     },
     "execution_count": 53,
     "metadata": {},
     "output_type": "execute_result"
    }
   ],
   "source": [
    "all_data[numeric_cols].describe()"
   ]
  },
  {
   "cell_type": "code",
   "execution_count": 54,
   "id": "335afb08-d35b-417f-839f-c7fbf6184ef1",
   "metadata": {},
   "outputs": [],
   "source": [
    "data_scaler = StandardScaler()\n",
    "all_data[numeric_cols] = data_scaler.fit_transform(all_data[numeric_cols])"
   ]
  },
  {
   "cell_type": "code",
   "execution_count": 55,
   "id": "59f0859b-1eb8-4c7f-a2c1-e4be5675f873",
   "metadata": {},
   "outputs": [
    {
     "data": {
      "text/html": [
       "<div>\n",
       "<style scoped>\n",
       "    .dataframe tbody tr th:only-of-type {\n",
       "        vertical-align: middle;\n",
       "    }\n",
       "\n",
       "    .dataframe tbody tr th {\n",
       "        vertical-align: top;\n",
       "    }\n",
       "\n",
       "    .dataframe thead th {\n",
       "        text-align: right;\n",
       "    }\n",
       "</style>\n",
       "<table border=\"1\" class=\"dataframe\">\n",
       "  <thead>\n",
       "    <tr style=\"text-align: right;\">\n",
       "      <th></th>\n",
       "      <th>ANZ_HAUSHALTE_AKTIV</th>\n",
       "      <th>ANZ_HH_TITEL</th>\n",
       "      <th>ANZ_PERSONEN</th>\n",
       "      <th>KBA13_ANZAHL_PKW</th>\n",
       "      <th>MIN_GEBAEUDEJAHR</th>\n",
       "      <th>EXTSEL992_freq</th>\n",
       "    </tr>\n",
       "  </thead>\n",
       "  <tbody>\n",
       "    <tr>\n",
       "      <th>count</th>\n",
       "      <td>7.039100e+04</td>\n",
       "      <td>6.940300e+04</td>\n",
       "      <td>7.193700e+04</td>\n",
       "      <td>6.999200e+04</td>\n",
       "      <td>7.039100e+04</td>\n",
       "      <td>5.403800e+04</td>\n",
       "    </tr>\n",
       "    <tr>\n",
       "      <th>mean</th>\n",
       "      <td>1.501145e-08</td>\n",
       "      <td>-6.843073e-09</td>\n",
       "      <td>-1.537821e-09</td>\n",
       "      <td>1.346197e-08</td>\n",
       "      <td>1.268115e-08</td>\n",
       "      <td>1.595399e-08</td>\n",
       "    </tr>\n",
       "    <tr>\n",
       "      <th>std</th>\n",
       "      <td>1.000007e+00</td>\n",
       "      <td>1.000007e+00</td>\n",
       "      <td>1.000007e+00</td>\n",
       "      <td>1.000007e+00</td>\n",
       "      <td>1.000007e+00</td>\n",
       "      <td>1.000009e+00</td>\n",
       "    </tr>\n",
       "    <tr>\n",
       "      <th>min</th>\n",
       "      <td>-1.574374e+00</td>\n",
       "      <td>-1.781704e-01</td>\n",
       "      <td>-2.223803e+00</td>\n",
       "      <td>-1.130696e+01</td>\n",
       "      <td>-3.200693e+00</td>\n",
       "      <td>-9.603246e-01</td>\n",
       "    </tr>\n",
       "    <tr>\n",
       "      <th>25%</th>\n",
       "      <td>-8.252140e-01</td>\n",
       "      <td>-1.781704e-01</td>\n",
       "      <td>-6.925810e-01</td>\n",
       "      <td>-5.784070e-01</td>\n",
       "      <td>-3.519593e-01</td>\n",
       "      <td>-7.256849e-01</td>\n",
       "    </tr>\n",
       "    <tr>\n",
       "      <th>50%</th>\n",
       "      <td>-3.869837e-01</td>\n",
       "      <td>-1.781704e-01</td>\n",
       "      <td>2.031264e-01</td>\n",
       "      <td>3.977590e-02</td>\n",
       "      <td>-3.519593e-01</td>\n",
       "      <td>-4.137912e-01</td>\n",
       "    </tr>\n",
       "    <tr>\n",
       "      <th>75%</th>\n",
       "      <td>6.731054e-01</td>\n",
       "      <td>-1.781704e-01</td>\n",
       "      <td>8.386408e-01</td>\n",
       "      <td>6.518253e-01</td>\n",
       "      <td>-3.519593e-01</td>\n",
       "      <td>1.520005e-01</td>\n",
       "    </tr>\n",
       "    <tr>\n",
       "      <th>max</th>\n",
       "      <td>5.001808e+00</td>\n",
       "      <td>1.935573e+01</td>\n",
       "      <td>4.886971e+00</td>\n",
       "      <td>2.613379e+00</td>\n",
       "      <td>8.937793e+00</td>\n",
       "      <td>1.768137e+00</td>\n",
       "    </tr>\n",
       "  </tbody>\n",
       "</table>\n",
       "</div>"
      ],
      "text/plain": [
       "       ANZ_HAUSHALTE_AKTIV  ANZ_HH_TITEL  ANZ_PERSONEN  KBA13_ANZAHL_PKW  \\\n",
       "count         7.039100e+04  6.940300e+04  7.193700e+04      6.999200e+04   \n",
       "mean          1.501145e-08 -6.843073e-09 -1.537821e-09      1.346197e-08   \n",
       "std           1.000007e+00  1.000007e+00  1.000007e+00      1.000007e+00   \n",
       "min          -1.574374e+00 -1.781704e-01 -2.223803e+00     -1.130696e+01   \n",
       "25%          -8.252140e-01 -1.781704e-01 -6.925810e-01     -5.784070e-01   \n",
       "50%          -3.869837e-01 -1.781704e-01  2.031264e-01      3.977590e-02   \n",
       "75%           6.731054e-01 -1.781704e-01  8.386408e-01      6.518253e-01   \n",
       "max           5.001808e+00  1.935573e+01  4.886971e+00      2.613379e+00   \n",
       "\n",
       "       MIN_GEBAEUDEJAHR  EXTSEL992_freq  \n",
       "count      7.039100e+04    5.403800e+04  \n",
       "mean       1.268115e-08    1.595399e-08  \n",
       "std        1.000007e+00    1.000009e+00  \n",
       "min       -3.200693e+00   -9.603246e-01  \n",
       "25%       -3.519593e-01   -7.256849e-01  \n",
       "50%       -3.519593e-01   -4.137912e-01  \n",
       "75%       -3.519593e-01    1.520005e-01  \n",
       "max        8.937793e+00    1.768137e+00  "
      ]
     },
     "execution_count": 55,
     "metadata": {},
     "output_type": "execute_result"
    }
   ],
   "source": [
    "all_data[numeric_cols].describe()"
   ]
  },
  {
   "cell_type": "markdown",
   "id": "eb9c8a04-3ea2-4246-b361-4aade78ef10e",
   "metadata": {},
   "source": [
    "# One hot encode"
   ]
  },
  {
   "cell_type": "code",
   "execution_count": 56,
   "id": "749b5f81-cf8f-48b1-91d4-f14c300541b9",
   "metadata": {},
   "outputs": [],
   "source": [
    "cat_columns = all_data.select_dtypes(['category']).columns"
   ]
  },
  {
   "cell_type": "code",
   "execution_count": 57,
   "id": "184f3e26-5f8f-4024-8901-7795ad2d53b7",
   "metadata": {},
   "outputs": [
    {
     "data": {
      "text/plain": [
       "Index(['AGER_TYP', 'AKT_DAT_KL', 'ALTER_KIND1', 'ALTERSKATEGORIE_FEIN',\n",
       "       'ARBEIT', 'BALLRAUM', 'CAMEO_DEU_2015', 'CAMEO_DEUG_2015',\n",
       "       'CAMEO_INTL_2015', 'CJT_GESAMTTYP',\n",
       "       ...\n",
       "       'WOHNDAUER_2008', 'WOHNLAGE', 'ZABEOTYP', 'RESPONSE', 'ANREDE_KZ',\n",
       "       'ALTERSKATEGORIE_GROB', 'type', 'GEBURTSJAHR_BINNED', 'Month',\n",
       "       'Year_5yr_Bin'],\n",
       "      dtype='object', length=347)"
      ]
     },
     "execution_count": 57,
     "metadata": {},
     "output_type": "execute_result"
    }
   ],
   "source": [
    "cat_columns"
   ]
  },
  {
   "cell_type": "markdown",
   "id": "9c905238-06ba-4e13-b242-0ac2a17e1e76",
   "metadata": {},
   "source": [
    "Lets make sure to remove response and type so to not modify those columns."
   ]
  },
  {
   "cell_type": "code",
   "execution_count": 58,
   "id": "0b732029-b54e-44de-9892-611ee230e65c",
   "metadata": {},
   "outputs": [],
   "source": [
    "cat_columns = list(set(cat_columns) - {'RESPONSE', 'type'})"
   ]
  },
  {
   "cell_type": "code",
   "execution_count": 59,
   "id": "01ae7d2e-a87d-4f68-afa1-4e8bb8654d42",
   "metadata": {},
   "outputs": [],
   "source": [
    "cat_imputer = SimpleImputer(missing_values=np.nan, strategy='most_frequent')\n",
    "all_data[cat_columns] = cat_imputer.fit_transform(all_data[cat_columns])"
   ]
  },
  {
   "cell_type": "code",
   "execution_count": 60,
   "id": "0be49a88-b004-49fa-802e-1881de50eb64",
   "metadata": {},
   "outputs": [],
   "source": [
    "encoded_df = pd.get_dummies(all_data[cat_columns], sparse=True)"
   ]
  },
  {
   "cell_type": "code",
   "execution_count": 61,
   "id": "dc586a6d-379f-4357-a02b-2ae2b67687e7",
   "metadata": {},
   "outputs": [
    {
     "data": {
      "text/html": [
       "<div>\n",
       "<style scoped>\n",
       "    .dataframe tbody tr th:only-of-type {\n",
       "        vertical-align: middle;\n",
       "    }\n",
       "\n",
       "    .dataframe tbody tr th {\n",
       "        vertical-align: top;\n",
       "    }\n",
       "\n",
       "    .dataframe thead th {\n",
       "        text-align: right;\n",
       "    }\n",
       "</style>\n",
       "<table border=\"1\" class=\"dataframe\">\n",
       "  <thead>\n",
       "    <tr style=\"text-align: right;\">\n",
       "      <th></th>\n",
       "      <th>KBA13_CCM_1800_0</th>\n",
       "      <th>KBA13_CCM_1800_1</th>\n",
       "      <th>KBA13_CCM_1800_2</th>\n",
       "      <th>KBA13_CCM_1800_3</th>\n",
       "      <th>KBA13_CCM_1800_4</th>\n",
       "      <th>KBA13_CCM_1800_5</th>\n",
       "      <th>KBA13_VORB_3_0</th>\n",
       "      <th>KBA13_VORB_3_1</th>\n",
       "      <th>KBA13_VORB_3_2</th>\n",
       "      <th>KBA13_VORB_3_3</th>\n",
       "      <th>...</th>\n",
       "      <th>KBA13_BJ_1999_2</th>\n",
       "      <th>KBA13_BJ_1999_3</th>\n",
       "      <th>KBA13_BJ_1999_4</th>\n",
       "      <th>KBA13_BJ_1999_5</th>\n",
       "      <th>KBA13_KW_120_0</th>\n",
       "      <th>KBA13_KW_120_1</th>\n",
       "      <th>KBA13_KW_120_2</th>\n",
       "      <th>KBA13_KW_120_3</th>\n",
       "      <th>KBA13_KW_120_4</th>\n",
       "      <th>KBA13_KW_120_5</th>\n",
       "    </tr>\n",
       "  </thead>\n",
       "  <tbody>\n",
       "    <tr>\n",
       "      <th>0</th>\n",
       "      <td>False</td>\n",
       "      <td>False</td>\n",
       "      <td>False</td>\n",
       "      <td>True</td>\n",
       "      <td>False</td>\n",
       "      <td>False</td>\n",
       "      <td>False</td>\n",
       "      <td>False</td>\n",
       "      <td>True</td>\n",
       "      <td>False</td>\n",
       "      <td>...</td>\n",
       "      <td>False</td>\n",
       "      <td>True</td>\n",
       "      <td>False</td>\n",
       "      <td>False</td>\n",
       "      <td>False</td>\n",
       "      <td>True</td>\n",
       "      <td>False</td>\n",
       "      <td>False</td>\n",
       "      <td>False</td>\n",
       "      <td>False</td>\n",
       "    </tr>\n",
       "    <tr>\n",
       "      <th>1</th>\n",
       "      <td>False</td>\n",
       "      <td>False</td>\n",
       "      <td>False</td>\n",
       "      <td>False</td>\n",
       "      <td>True</td>\n",
       "      <td>False</td>\n",
       "      <td>False</td>\n",
       "      <td>False</td>\n",
       "      <td>False</td>\n",
       "      <td>True</td>\n",
       "      <td>...</td>\n",
       "      <td>False</td>\n",
       "      <td>False</td>\n",
       "      <td>True</td>\n",
       "      <td>False</td>\n",
       "      <td>False</td>\n",
       "      <td>False</td>\n",
       "      <td>False</td>\n",
       "      <td>True</td>\n",
       "      <td>False</td>\n",
       "      <td>False</td>\n",
       "    </tr>\n",
       "    <tr>\n",
       "      <th>2</th>\n",
       "      <td>True</td>\n",
       "      <td>False</td>\n",
       "      <td>False</td>\n",
       "      <td>False</td>\n",
       "      <td>False</td>\n",
       "      <td>False</td>\n",
       "      <td>False</td>\n",
       "      <td>False</td>\n",
       "      <td>True</td>\n",
       "      <td>False</td>\n",
       "      <td>...</td>\n",
       "      <td>False</td>\n",
       "      <td>True</td>\n",
       "      <td>False</td>\n",
       "      <td>False</td>\n",
       "      <td>False</td>\n",
       "      <td>False</td>\n",
       "      <td>False</td>\n",
       "      <td>True</td>\n",
       "      <td>False</td>\n",
       "      <td>False</td>\n",
       "    </tr>\n",
       "    <tr>\n",
       "      <th>3</th>\n",
       "      <td>True</td>\n",
       "      <td>False</td>\n",
       "      <td>False</td>\n",
       "      <td>False</td>\n",
       "      <td>False</td>\n",
       "      <td>False</td>\n",
       "      <td>False</td>\n",
       "      <td>False</td>\n",
       "      <td>False</td>\n",
       "      <td>True</td>\n",
       "      <td>...</td>\n",
       "      <td>True</td>\n",
       "      <td>False</td>\n",
       "      <td>False</td>\n",
       "      <td>False</td>\n",
       "      <td>False</td>\n",
       "      <td>False</td>\n",
       "      <td>False</td>\n",
       "      <td>True</td>\n",
       "      <td>False</td>\n",
       "      <td>False</td>\n",
       "    </tr>\n",
       "    <tr>\n",
       "      <th>4</th>\n",
       "      <td>False</td>\n",
       "      <td>False</td>\n",
       "      <td>False</td>\n",
       "      <td>False</td>\n",
       "      <td>False</td>\n",
       "      <td>True</td>\n",
       "      <td>True</td>\n",
       "      <td>False</td>\n",
       "      <td>False</td>\n",
       "      <td>False</td>\n",
       "      <td>...</td>\n",
       "      <td>False</td>\n",
       "      <td>False</td>\n",
       "      <td>False</td>\n",
       "      <td>False</td>\n",
       "      <td>False</td>\n",
       "      <td>False</td>\n",
       "      <td>False</td>\n",
       "      <td>False</td>\n",
       "      <td>False</td>\n",
       "      <td>True</td>\n",
       "    </tr>\n",
       "    <tr>\n",
       "      <th>...</th>\n",
       "      <td>...</td>\n",
       "      <td>...</td>\n",
       "      <td>...</td>\n",
       "      <td>...</td>\n",
       "      <td>...</td>\n",
       "      <td>...</td>\n",
       "      <td>...</td>\n",
       "      <td>...</td>\n",
       "      <td>...</td>\n",
       "      <td>...</td>\n",
       "      <td>...</td>\n",
       "      <td>...</td>\n",
       "      <td>...</td>\n",
       "      <td>...</td>\n",
       "      <td>...</td>\n",
       "      <td>...</td>\n",
       "      <td>...</td>\n",
       "      <td>...</td>\n",
       "      <td>...</td>\n",
       "      <td>...</td>\n",
       "      <td>...</td>\n",
       "    </tr>\n",
       "    <tr>\n",
       "      <th>85790</th>\n",
       "      <td>False</td>\n",
       "      <td>False</td>\n",
       "      <td>False</td>\n",
       "      <td>True</td>\n",
       "      <td>False</td>\n",
       "      <td>False</td>\n",
       "      <td>False</td>\n",
       "      <td>False</td>\n",
       "      <td>False</td>\n",
       "      <td>True</td>\n",
       "      <td>...</td>\n",
       "      <td>False</td>\n",
       "      <td>True</td>\n",
       "      <td>False</td>\n",
       "      <td>False</td>\n",
       "      <td>False</td>\n",
       "      <td>False</td>\n",
       "      <td>False</td>\n",
       "      <td>True</td>\n",
       "      <td>False</td>\n",
       "      <td>False</td>\n",
       "    </tr>\n",
       "    <tr>\n",
       "      <th>85791</th>\n",
       "      <td>True</td>\n",
       "      <td>False</td>\n",
       "      <td>False</td>\n",
       "      <td>False</td>\n",
       "      <td>False</td>\n",
       "      <td>False</td>\n",
       "      <td>False</td>\n",
       "      <td>False</td>\n",
       "      <td>True</td>\n",
       "      <td>False</td>\n",
       "      <td>...</td>\n",
       "      <td>False</td>\n",
       "      <td>True</td>\n",
       "      <td>False</td>\n",
       "      <td>False</td>\n",
       "      <td>False</td>\n",
       "      <td>True</td>\n",
       "      <td>False</td>\n",
       "      <td>False</td>\n",
       "      <td>False</td>\n",
       "      <td>False</td>\n",
       "    </tr>\n",
       "    <tr>\n",
       "      <th>85792</th>\n",
       "      <td>False</td>\n",
       "      <td>False</td>\n",
       "      <td>False</td>\n",
       "      <td>False</td>\n",
       "      <td>True</td>\n",
       "      <td>False</td>\n",
       "      <td>False</td>\n",
       "      <td>False</td>\n",
       "      <td>False</td>\n",
       "      <td>True</td>\n",
       "      <td>...</td>\n",
       "      <td>True</td>\n",
       "      <td>False</td>\n",
       "      <td>False</td>\n",
       "      <td>False</td>\n",
       "      <td>False</td>\n",
       "      <td>False</td>\n",
       "      <td>False</td>\n",
       "      <td>False</td>\n",
       "      <td>False</td>\n",
       "      <td>True</td>\n",
       "    </tr>\n",
       "    <tr>\n",
       "      <th>85793</th>\n",
       "      <td>True</td>\n",
       "      <td>False</td>\n",
       "      <td>False</td>\n",
       "      <td>False</td>\n",
       "      <td>False</td>\n",
       "      <td>False</td>\n",
       "      <td>True</td>\n",
       "      <td>False</td>\n",
       "      <td>False</td>\n",
       "      <td>False</td>\n",
       "      <td>...</td>\n",
       "      <td>False</td>\n",
       "      <td>True</td>\n",
       "      <td>False</td>\n",
       "      <td>False</td>\n",
       "      <td>False</td>\n",
       "      <td>False</td>\n",
       "      <td>False</td>\n",
       "      <td>True</td>\n",
       "      <td>False</td>\n",
       "      <td>False</td>\n",
       "    </tr>\n",
       "    <tr>\n",
       "      <th>85794</th>\n",
       "      <td>False</td>\n",
       "      <td>False</td>\n",
       "      <td>True</td>\n",
       "      <td>False</td>\n",
       "      <td>False</td>\n",
       "      <td>False</td>\n",
       "      <td>True</td>\n",
       "      <td>False</td>\n",
       "      <td>False</td>\n",
       "      <td>False</td>\n",
       "      <td>...</td>\n",
       "      <td>False</td>\n",
       "      <td>False</td>\n",
       "      <td>False</td>\n",
       "      <td>True</td>\n",
       "      <td>False</td>\n",
       "      <td>True</td>\n",
       "      <td>False</td>\n",
       "      <td>False</td>\n",
       "      <td>False</td>\n",
       "      <td>False</td>\n",
       "    </tr>\n",
       "  </tbody>\n",
       "</table>\n",
       "<p>85795 rows × 2222 columns</p>\n",
       "</div>"
      ],
      "text/plain": [
       "       KBA13_CCM_1800_0  KBA13_CCM_1800_1  KBA13_CCM_1800_2  KBA13_CCM_1800_3  \\\n",
       "0                 False             False             False              True   \n",
       "1                 False             False             False             False   \n",
       "2                  True             False             False             False   \n",
       "3                  True             False             False             False   \n",
       "4                 False             False             False             False   \n",
       "...                 ...               ...               ...               ...   \n",
       "85790             False             False             False              True   \n",
       "85791              True             False             False             False   \n",
       "85792             False             False             False             False   \n",
       "85793              True             False             False             False   \n",
       "85794             False             False              True             False   \n",
       "\n",
       "       KBA13_CCM_1800_4  KBA13_CCM_1800_5  KBA13_VORB_3_0  KBA13_VORB_3_1  \\\n",
       "0                 False             False           False           False   \n",
       "1                  True             False           False           False   \n",
       "2                 False             False           False           False   \n",
       "3                 False             False           False           False   \n",
       "4                 False              True            True           False   \n",
       "...                 ...               ...             ...             ...   \n",
       "85790             False             False           False           False   \n",
       "85791             False             False           False           False   \n",
       "85792              True             False           False           False   \n",
       "85793             False             False            True           False   \n",
       "85794             False             False            True           False   \n",
       "\n",
       "       KBA13_VORB_3_2  KBA13_VORB_3_3  ...  KBA13_BJ_1999_2  KBA13_BJ_1999_3  \\\n",
       "0                True           False  ...            False             True   \n",
       "1               False            True  ...            False            False   \n",
       "2                True           False  ...            False             True   \n",
       "3               False            True  ...             True            False   \n",
       "4               False           False  ...            False            False   \n",
       "...               ...             ...  ...              ...              ...   \n",
       "85790           False            True  ...            False             True   \n",
       "85791            True           False  ...            False             True   \n",
       "85792           False            True  ...             True            False   \n",
       "85793           False           False  ...            False             True   \n",
       "85794           False           False  ...            False            False   \n",
       "\n",
       "       KBA13_BJ_1999_4  KBA13_BJ_1999_5  KBA13_KW_120_0  KBA13_KW_120_1  \\\n",
       "0                False            False           False            True   \n",
       "1                 True            False           False           False   \n",
       "2                False            False           False           False   \n",
       "3                False            False           False           False   \n",
       "4                False            False           False           False   \n",
       "...                ...              ...             ...             ...   \n",
       "85790            False            False           False           False   \n",
       "85791            False            False           False            True   \n",
       "85792            False            False           False           False   \n",
       "85793            False            False           False           False   \n",
       "85794            False             True           False            True   \n",
       "\n",
       "       KBA13_KW_120_2  KBA13_KW_120_3  KBA13_KW_120_4  KBA13_KW_120_5  \n",
       "0               False           False           False           False  \n",
       "1               False            True           False           False  \n",
       "2               False            True           False           False  \n",
       "3               False            True           False           False  \n",
       "4               False           False           False            True  \n",
       "...               ...             ...             ...             ...  \n",
       "85790           False            True           False           False  \n",
       "85791           False           False           False           False  \n",
       "85792           False           False           False            True  \n",
       "85793           False            True           False           False  \n",
       "85794           False           False           False           False  \n",
       "\n",
       "[85795 rows x 2222 columns]"
      ]
     },
     "execution_count": 61,
     "metadata": {},
     "output_type": "execute_result"
    }
   ],
   "source": [
    "encoded_df"
   ]
  },
  {
   "cell_type": "code",
   "execution_count": null,
   "id": "1988975b-2910-4511-ac88-edca2a7b5fb8",
   "metadata": {},
   "outputs": [],
   "source": []
  },
  {
   "cell_type": "code",
   "execution_count": 62,
   "id": "7fc255ce-28e0-43ec-ab31-d95e16f826e9",
   "metadata": {},
   "outputs": [],
   "source": [
    "# Recude encoded featurespace with variance tollerance thresholding"
   ]
  },
  {
   "cell_type": "code",
   "execution_count": 63,
   "id": "b4509452-2342-4cbc-8ecb-d03903dc6527",
   "metadata": {},
   "outputs": [],
   "source": [
    "encoded_df = pd.get_dummies(all_data[cat_columns], sparse=True)\n",
    "# 1. Remove low variance features (especially important for one-hot encoded columns)\n",
    "selector = VarianceThreshold(threshold=0.01)  # 1% seems to be a reasonable threshold"
   ]
  },
  {
   "cell_type": "code",
   "execution_count": 64,
   "id": "36872a23-4491-486a-9e59-fe8e626b741f",
   "metadata": {},
   "outputs": [
    {
     "data": {
      "text/html": [
       "<style>#sk-container-id-1 {\n",
       "  /* Definition of color scheme common for light and dark mode */\n",
       "  --sklearn-color-text: black;\n",
       "  --sklearn-color-line: gray;\n",
       "  /* Definition of color scheme for unfitted estimators */\n",
       "  --sklearn-color-unfitted-level-0: #fff5e6;\n",
       "  --sklearn-color-unfitted-level-1: #f6e4d2;\n",
       "  --sklearn-color-unfitted-level-2: #ffe0b3;\n",
       "  --sklearn-color-unfitted-level-3: chocolate;\n",
       "  /* Definition of color scheme for fitted estimators */\n",
       "  --sklearn-color-fitted-level-0: #f0f8ff;\n",
       "  --sklearn-color-fitted-level-1: #d4ebff;\n",
       "  --sklearn-color-fitted-level-2: #b3dbfd;\n",
       "  --sklearn-color-fitted-level-3: cornflowerblue;\n",
       "\n",
       "  /* Specific color for light theme */\n",
       "  --sklearn-color-text-on-default-background: var(--sg-text-color, var(--theme-code-foreground, var(--jp-content-font-color1, black)));\n",
       "  --sklearn-color-background: var(--sg-background-color, var(--theme-background, var(--jp-layout-color0, white)));\n",
       "  --sklearn-color-border-box: var(--sg-text-color, var(--theme-code-foreground, var(--jp-content-font-color1, black)));\n",
       "  --sklearn-color-icon: #696969;\n",
       "\n",
       "  @media (prefers-color-scheme: dark) {\n",
       "    /* Redefinition of color scheme for dark theme */\n",
       "    --sklearn-color-text-on-default-background: var(--sg-text-color, var(--theme-code-foreground, var(--jp-content-font-color1, white)));\n",
       "    --sklearn-color-background: var(--sg-background-color, var(--theme-background, var(--jp-layout-color0, #111)));\n",
       "    --sklearn-color-border-box: var(--sg-text-color, var(--theme-code-foreground, var(--jp-content-font-color1, white)));\n",
       "    --sklearn-color-icon: #878787;\n",
       "  }\n",
       "}\n",
       "\n",
       "#sk-container-id-1 {\n",
       "  color: var(--sklearn-color-text);\n",
       "}\n",
       "\n",
       "#sk-container-id-1 pre {\n",
       "  padding: 0;\n",
       "}\n",
       "\n",
       "#sk-container-id-1 input.sk-hidden--visually {\n",
       "  border: 0;\n",
       "  clip: rect(1px 1px 1px 1px);\n",
       "  clip: rect(1px, 1px, 1px, 1px);\n",
       "  height: 1px;\n",
       "  margin: -1px;\n",
       "  overflow: hidden;\n",
       "  padding: 0;\n",
       "  position: absolute;\n",
       "  width: 1px;\n",
       "}\n",
       "\n",
       "#sk-container-id-1 div.sk-dashed-wrapped {\n",
       "  border: 1px dashed var(--sklearn-color-line);\n",
       "  margin: 0 0.4em 0.5em 0.4em;\n",
       "  box-sizing: border-box;\n",
       "  padding-bottom: 0.4em;\n",
       "  background-color: var(--sklearn-color-background);\n",
       "}\n",
       "\n",
       "#sk-container-id-1 div.sk-container {\n",
       "  /* jupyter's `normalize.less` sets `[hidden] { display: none; }`\n",
       "     but bootstrap.min.css set `[hidden] { display: none !important; }`\n",
       "     so we also need the `!important` here to be able to override the\n",
       "     default hidden behavior on the sphinx rendered scikit-learn.org.\n",
       "     See: https://github.com/scikit-learn/scikit-learn/issues/21755 */\n",
       "  display: inline-block !important;\n",
       "  position: relative;\n",
       "}\n",
       "\n",
       "#sk-container-id-1 div.sk-text-repr-fallback {\n",
       "  display: none;\n",
       "}\n",
       "\n",
       "div.sk-parallel-item,\n",
       "div.sk-serial,\n",
       "div.sk-item {\n",
       "  /* draw centered vertical line to link estimators */\n",
       "  background-image: linear-gradient(var(--sklearn-color-text-on-default-background), var(--sklearn-color-text-on-default-background));\n",
       "  background-size: 2px 100%;\n",
       "  background-repeat: no-repeat;\n",
       "  background-position: center center;\n",
       "}\n",
       "\n",
       "/* Parallel-specific style estimator block */\n",
       "\n",
       "#sk-container-id-1 div.sk-parallel-item::after {\n",
       "  content: \"\";\n",
       "  width: 100%;\n",
       "  border-bottom: 2px solid var(--sklearn-color-text-on-default-background);\n",
       "  flex-grow: 1;\n",
       "}\n",
       "\n",
       "#sk-container-id-1 div.sk-parallel {\n",
       "  display: flex;\n",
       "  align-items: stretch;\n",
       "  justify-content: center;\n",
       "  background-color: var(--sklearn-color-background);\n",
       "  position: relative;\n",
       "}\n",
       "\n",
       "#sk-container-id-1 div.sk-parallel-item {\n",
       "  display: flex;\n",
       "  flex-direction: column;\n",
       "}\n",
       "\n",
       "#sk-container-id-1 div.sk-parallel-item:first-child::after {\n",
       "  align-self: flex-end;\n",
       "  width: 50%;\n",
       "}\n",
       "\n",
       "#sk-container-id-1 div.sk-parallel-item:last-child::after {\n",
       "  align-self: flex-start;\n",
       "  width: 50%;\n",
       "}\n",
       "\n",
       "#sk-container-id-1 div.sk-parallel-item:only-child::after {\n",
       "  width: 0;\n",
       "}\n",
       "\n",
       "/* Serial-specific style estimator block */\n",
       "\n",
       "#sk-container-id-1 div.sk-serial {\n",
       "  display: flex;\n",
       "  flex-direction: column;\n",
       "  align-items: center;\n",
       "  background-color: var(--sklearn-color-background);\n",
       "  padding-right: 1em;\n",
       "  padding-left: 1em;\n",
       "}\n",
       "\n",
       "\n",
       "/* Toggleable style: style used for estimator/Pipeline/ColumnTransformer box that is\n",
       "clickable and can be expanded/collapsed.\n",
       "- Pipeline and ColumnTransformer use this feature and define the default style\n",
       "- Estimators will overwrite some part of the style using the `sk-estimator` class\n",
       "*/\n",
       "\n",
       "/* Pipeline and ColumnTransformer style (default) */\n",
       "\n",
       "#sk-container-id-1 div.sk-toggleable {\n",
       "  /* Default theme specific background. It is overwritten whether we have a\n",
       "  specific estimator or a Pipeline/ColumnTransformer */\n",
       "  background-color: var(--sklearn-color-background);\n",
       "}\n",
       "\n",
       "/* Toggleable label */\n",
       "#sk-container-id-1 label.sk-toggleable__label {\n",
       "  cursor: pointer;\n",
       "  display: block;\n",
       "  width: 100%;\n",
       "  margin-bottom: 0;\n",
       "  padding: 0.5em;\n",
       "  box-sizing: border-box;\n",
       "  text-align: center;\n",
       "}\n",
       "\n",
       "#sk-container-id-1 label.sk-toggleable__label-arrow:before {\n",
       "  /* Arrow on the left of the label */\n",
       "  content: \"▸\";\n",
       "  float: left;\n",
       "  margin-right: 0.25em;\n",
       "  color: var(--sklearn-color-icon);\n",
       "}\n",
       "\n",
       "#sk-container-id-1 label.sk-toggleable__label-arrow:hover:before {\n",
       "  color: var(--sklearn-color-text);\n",
       "}\n",
       "\n",
       "/* Toggleable content - dropdown */\n",
       "\n",
       "#sk-container-id-1 div.sk-toggleable__content {\n",
       "  max-height: 0;\n",
       "  max-width: 0;\n",
       "  overflow: hidden;\n",
       "  text-align: left;\n",
       "  /* unfitted */\n",
       "  background-color: var(--sklearn-color-unfitted-level-0);\n",
       "}\n",
       "\n",
       "#sk-container-id-1 div.sk-toggleable__content.fitted {\n",
       "  /* fitted */\n",
       "  background-color: var(--sklearn-color-fitted-level-0);\n",
       "}\n",
       "\n",
       "#sk-container-id-1 div.sk-toggleable__content pre {\n",
       "  margin: 0.2em;\n",
       "  border-radius: 0.25em;\n",
       "  color: var(--sklearn-color-text);\n",
       "  /* unfitted */\n",
       "  background-color: var(--sklearn-color-unfitted-level-0);\n",
       "}\n",
       "\n",
       "#sk-container-id-1 div.sk-toggleable__content.fitted pre {\n",
       "  /* unfitted */\n",
       "  background-color: var(--sklearn-color-fitted-level-0);\n",
       "}\n",
       "\n",
       "#sk-container-id-1 input.sk-toggleable__control:checked~div.sk-toggleable__content {\n",
       "  /* Expand drop-down */\n",
       "  max-height: 200px;\n",
       "  max-width: 100%;\n",
       "  overflow: auto;\n",
       "}\n",
       "\n",
       "#sk-container-id-1 input.sk-toggleable__control:checked~label.sk-toggleable__label-arrow:before {\n",
       "  content: \"▾\";\n",
       "}\n",
       "\n",
       "/* Pipeline/ColumnTransformer-specific style */\n",
       "\n",
       "#sk-container-id-1 div.sk-label input.sk-toggleable__control:checked~label.sk-toggleable__label {\n",
       "  color: var(--sklearn-color-text);\n",
       "  background-color: var(--sklearn-color-unfitted-level-2);\n",
       "}\n",
       "\n",
       "#sk-container-id-1 div.sk-label.fitted input.sk-toggleable__control:checked~label.sk-toggleable__label {\n",
       "  background-color: var(--sklearn-color-fitted-level-2);\n",
       "}\n",
       "\n",
       "/* Estimator-specific style */\n",
       "\n",
       "/* Colorize estimator box */\n",
       "#sk-container-id-1 div.sk-estimator input.sk-toggleable__control:checked~label.sk-toggleable__label {\n",
       "  /* unfitted */\n",
       "  background-color: var(--sklearn-color-unfitted-level-2);\n",
       "}\n",
       "\n",
       "#sk-container-id-1 div.sk-estimator.fitted input.sk-toggleable__control:checked~label.sk-toggleable__label {\n",
       "  /* fitted */\n",
       "  background-color: var(--sklearn-color-fitted-level-2);\n",
       "}\n",
       "\n",
       "#sk-container-id-1 div.sk-label label.sk-toggleable__label,\n",
       "#sk-container-id-1 div.sk-label label {\n",
       "  /* The background is the default theme color */\n",
       "  color: var(--sklearn-color-text-on-default-background);\n",
       "}\n",
       "\n",
       "/* On hover, darken the color of the background */\n",
       "#sk-container-id-1 div.sk-label:hover label.sk-toggleable__label {\n",
       "  color: var(--sklearn-color-text);\n",
       "  background-color: var(--sklearn-color-unfitted-level-2);\n",
       "}\n",
       "\n",
       "/* Label box, darken color on hover, fitted */\n",
       "#sk-container-id-1 div.sk-label.fitted:hover label.sk-toggleable__label.fitted {\n",
       "  color: var(--sklearn-color-text);\n",
       "  background-color: var(--sklearn-color-fitted-level-2);\n",
       "}\n",
       "\n",
       "/* Estimator label */\n",
       "\n",
       "#sk-container-id-1 div.sk-label label {\n",
       "  font-family: monospace;\n",
       "  font-weight: bold;\n",
       "  display: inline-block;\n",
       "  line-height: 1.2em;\n",
       "}\n",
       "\n",
       "#sk-container-id-1 div.sk-label-container {\n",
       "  text-align: center;\n",
       "}\n",
       "\n",
       "/* Estimator-specific */\n",
       "#sk-container-id-1 div.sk-estimator {\n",
       "  font-family: monospace;\n",
       "  border: 1px dotted var(--sklearn-color-border-box);\n",
       "  border-radius: 0.25em;\n",
       "  box-sizing: border-box;\n",
       "  margin-bottom: 0.5em;\n",
       "  /* unfitted */\n",
       "  background-color: var(--sklearn-color-unfitted-level-0);\n",
       "}\n",
       "\n",
       "#sk-container-id-1 div.sk-estimator.fitted {\n",
       "  /* fitted */\n",
       "  background-color: var(--sklearn-color-fitted-level-0);\n",
       "}\n",
       "\n",
       "/* on hover */\n",
       "#sk-container-id-1 div.sk-estimator:hover {\n",
       "  /* unfitted */\n",
       "  background-color: var(--sklearn-color-unfitted-level-2);\n",
       "}\n",
       "\n",
       "#sk-container-id-1 div.sk-estimator.fitted:hover {\n",
       "  /* fitted */\n",
       "  background-color: var(--sklearn-color-fitted-level-2);\n",
       "}\n",
       "\n",
       "/* Specification for estimator info (e.g. \"i\" and \"?\") */\n",
       "\n",
       "/* Common style for \"i\" and \"?\" */\n",
       "\n",
       ".sk-estimator-doc-link,\n",
       "a:link.sk-estimator-doc-link,\n",
       "a:visited.sk-estimator-doc-link {\n",
       "  float: right;\n",
       "  font-size: smaller;\n",
       "  line-height: 1em;\n",
       "  font-family: monospace;\n",
       "  background-color: var(--sklearn-color-background);\n",
       "  border-radius: 1em;\n",
       "  height: 1em;\n",
       "  width: 1em;\n",
       "  text-decoration: none !important;\n",
       "  margin-left: 1ex;\n",
       "  /* unfitted */\n",
       "  border: var(--sklearn-color-unfitted-level-1) 1pt solid;\n",
       "  color: var(--sklearn-color-unfitted-level-1);\n",
       "}\n",
       "\n",
       ".sk-estimator-doc-link.fitted,\n",
       "a:link.sk-estimator-doc-link.fitted,\n",
       "a:visited.sk-estimator-doc-link.fitted {\n",
       "  /* fitted */\n",
       "  border: var(--sklearn-color-fitted-level-1) 1pt solid;\n",
       "  color: var(--sklearn-color-fitted-level-1);\n",
       "}\n",
       "\n",
       "/* On hover */\n",
       "div.sk-estimator:hover .sk-estimator-doc-link:hover,\n",
       ".sk-estimator-doc-link:hover,\n",
       "div.sk-label-container:hover .sk-estimator-doc-link:hover,\n",
       ".sk-estimator-doc-link:hover {\n",
       "  /* unfitted */\n",
       "  background-color: var(--sklearn-color-unfitted-level-3);\n",
       "  color: var(--sklearn-color-background);\n",
       "  text-decoration: none;\n",
       "}\n",
       "\n",
       "div.sk-estimator.fitted:hover .sk-estimator-doc-link.fitted:hover,\n",
       ".sk-estimator-doc-link.fitted:hover,\n",
       "div.sk-label-container:hover .sk-estimator-doc-link.fitted:hover,\n",
       ".sk-estimator-doc-link.fitted:hover {\n",
       "  /* fitted */\n",
       "  background-color: var(--sklearn-color-fitted-level-3);\n",
       "  color: var(--sklearn-color-background);\n",
       "  text-decoration: none;\n",
       "}\n",
       "\n",
       "/* Span, style for the box shown on hovering the info icon */\n",
       ".sk-estimator-doc-link span {\n",
       "  display: none;\n",
       "  z-index: 9999;\n",
       "  position: relative;\n",
       "  font-weight: normal;\n",
       "  right: .2ex;\n",
       "  padding: .5ex;\n",
       "  margin: .5ex;\n",
       "  width: min-content;\n",
       "  min-width: 20ex;\n",
       "  max-width: 50ex;\n",
       "  color: var(--sklearn-color-text);\n",
       "  box-shadow: 2pt 2pt 4pt #999;\n",
       "  /* unfitted */\n",
       "  background: var(--sklearn-color-unfitted-level-0);\n",
       "  border: .5pt solid var(--sklearn-color-unfitted-level-3);\n",
       "}\n",
       "\n",
       ".sk-estimator-doc-link.fitted span {\n",
       "  /* fitted */\n",
       "  background: var(--sklearn-color-fitted-level-0);\n",
       "  border: var(--sklearn-color-fitted-level-3);\n",
       "}\n",
       "\n",
       ".sk-estimator-doc-link:hover span {\n",
       "  display: block;\n",
       "}\n",
       "\n",
       "/* \"?\"-specific style due to the `<a>` HTML tag */\n",
       "\n",
       "#sk-container-id-1 a.estimator_doc_link {\n",
       "  float: right;\n",
       "  font-size: 1rem;\n",
       "  line-height: 1em;\n",
       "  font-family: monospace;\n",
       "  background-color: var(--sklearn-color-background);\n",
       "  border-radius: 1rem;\n",
       "  height: 1rem;\n",
       "  width: 1rem;\n",
       "  text-decoration: none;\n",
       "  /* unfitted */\n",
       "  color: var(--sklearn-color-unfitted-level-1);\n",
       "  border: var(--sklearn-color-unfitted-level-1) 1pt solid;\n",
       "}\n",
       "\n",
       "#sk-container-id-1 a.estimator_doc_link.fitted {\n",
       "  /* fitted */\n",
       "  border: var(--sklearn-color-fitted-level-1) 1pt solid;\n",
       "  color: var(--sklearn-color-fitted-level-1);\n",
       "}\n",
       "\n",
       "/* On hover */\n",
       "#sk-container-id-1 a.estimator_doc_link:hover {\n",
       "  /* unfitted */\n",
       "  background-color: var(--sklearn-color-unfitted-level-3);\n",
       "  color: var(--sklearn-color-background);\n",
       "  text-decoration: none;\n",
       "}\n",
       "\n",
       "#sk-container-id-1 a.estimator_doc_link.fitted:hover {\n",
       "  /* fitted */\n",
       "  background-color: var(--sklearn-color-fitted-level-3);\n",
       "}\n",
       "</style><div id=\"sk-container-id-1\" class=\"sk-top-container\"><div class=\"sk-text-repr-fallback\"><pre>VarianceThreshold(threshold=0.01)</pre><b>In a Jupyter environment, please rerun this cell to show the HTML representation or trust the notebook. <br />On GitHub, the HTML representation is unable to render, please try loading this page with nbviewer.org.</b></div><div class=\"sk-container\" hidden><div class=\"sk-item\"><div class=\"sk-estimator fitted sk-toggleable\"><input class=\"sk-toggleable__control sk-hidden--visually\" id=\"sk-estimator-id-1\" type=\"checkbox\" checked><label for=\"sk-estimator-id-1\" class=\"sk-toggleable__label fitted sk-toggleable__label-arrow fitted\">&nbsp;&nbsp;VarianceThreshold<a class=\"sk-estimator-doc-link fitted\" rel=\"noreferrer\" target=\"_blank\" href=\"https://scikit-learn.org/1.5/modules/generated/sklearn.feature_selection.VarianceThreshold.html\">?<span>Documentation for VarianceThreshold</span></a><span class=\"sk-estimator-doc-link fitted\">i<span>Fitted</span></span></label><div class=\"sk-toggleable__content fitted\"><pre>VarianceThreshold(threshold=0.01)</pre></div> </div></div></div></div>"
      ],
      "text/plain": [
       "VarianceThreshold(threshold=0.01)"
      ]
     },
     "execution_count": 64,
     "metadata": {},
     "output_type": "execute_result"
    }
   ],
   "source": [
    "selector.fit(encoded_df)\n"
   ]
  },
  {
   "cell_type": "code",
   "execution_count": 65,
   "id": "3b4dcc09-1771-4166-ad5e-23305556d7c3",
   "metadata": {},
   "outputs": [
    {
     "name": "stdout",
     "output_type": "stream",
     "text": [
      "Features reduced from 2222 to 1846\n"
     ]
    }
   ],
   "source": [
    "# Get selected feature names\n",
    "selected_features = encoded_df.columns[selector.get_support()].tolist()\n",
    "print(f\"Features reduced from {encoded_df.shape[1]} to {len(selected_features)}\")"
   ]
  },
  {
   "cell_type": "code",
   "execution_count": null,
   "id": "f9529445-7156-4332-8414-d665f8897a58",
   "metadata": {},
   "outputs": [],
   "source": []
  },
  {
   "cell_type": "code",
   "execution_count": 66,
   "id": "2a0593f6-0c28-4d1f-b9ce-f8bcc0e13f77",
   "metadata": {},
   "outputs": [],
   "source": [
    "mask = selector.get_support()  # This is an array of booleans"
   ]
  },
  {
   "cell_type": "code",
   "execution_count": 68,
   "id": "39c00e65-57f5-4adc-a13f-e74d8b432498",
   "metadata": {},
   "outputs": [],
   "source": [
    "encoded_df = encoded_df.loc[:, mask]"
   ]
  },
  {
   "cell_type": "code",
   "execution_count": 69,
   "id": "fc56e409-e59e-4b4c-a685-860924fef6bf",
   "metadata": {},
   "outputs": [],
   "source": [
    "# make sure to include the target column and our devider columns\n",
    "non_cat_df = all_data.drop(columns=cat_columns)"
   ]
  },
  {
   "cell_type": "code",
   "execution_count": 70,
   "id": "54936f97-1a5a-4fd0-ac4a-1b00415a63a5",
   "metadata": {},
   "outputs": [],
   "source": [
    "all_data = non_cat_df.join(encoded_df)"
   ]
  },
  {
   "cell_type": "code",
   "execution_count": 71,
   "id": "293a392d-522d-434d-83f1-5fca3a9b2a47",
   "metadata": {},
   "outputs": [],
   "source": [
    "train_mask = all_data['type'] == 'train'\n",
    "test_mask = all_data['type'] == 'test'\n"
   ]
  },
  {
   "cell_type": "code",
   "execution_count": 72,
   "id": "01176b99-1215-4bba-8346-2316ea485428",
   "metadata": {
    "scrolled": true
   },
   "outputs": [],
   "source": [
    "all_data = all_data.drop(columns='type')"
   ]
  },
  {
   "cell_type": "code",
   "execution_count": 73,
   "id": "790ff58f-62c2-4834-bda9-609651e10db3",
   "metadata": {},
   "outputs": [],
   "source": [
    "df_test = all_data[test_mask]\n",
    "df_train = all_data[train_mask]"
   ]
  },
  {
   "cell_type": "code",
   "execution_count": 74,
   "id": "730476a6-bb78-4138-9c59-54e3a810fbd4",
   "metadata": {},
   "outputs": [],
   "source": [
    "X_train = df_train.drop(columns='RESPONSE')\n",
    "y_train = df_train['RESPONSE'].astype(int)\n"
   ]
  },
  {
   "cell_type": "code",
   "execution_count": 76,
   "id": "44d04bd5-9764-4c9e-b058-4eda42b7fc7a",
   "metadata": {},
   "outputs": [
    {
     "name": "stdout",
     "output_type": "stream",
     "text": [
      "Original class distribution:\n",
      "Class distribution: Counter({0: 42430, 1: 532})\n"
     ]
    }
   ],
   "source": [
    "# Check class distribution\n",
    "def check_class_distribution(y):\n",
    "    counter = Counter(y)\n",
    "    print(f\"Class distribution: {counter}\")\n",
    "\n",
    "print(\"Original class distribution:\")\n",
    "check_class_distribution(y_train)"
   ]
  },
  {
   "cell_type": "code",
   "execution_count": 77,
   "id": "1bc33354-7a3e-4635-be5f-acf4757bf7a8",
   "metadata": {},
   "outputs": [],
   "source": [
    "# Compute class weights\n",
    "class_weights = compute_class_weight('balanced', classes=np.unique(y_train), y=y_train)\n",
    "class_weight_dict = dict(enumerate(class_weights))"
   ]
  },
  {
   "cell_type": "code",
   "execution_count": 82,
   "id": "26c3bead-3cbf-4e41-9178-fa6865a28243",
   "metadata": {},
   "outputs": [
    {
     "name": "stderr",
     "output_type": "stream",
     "text": [
      "[I 2024-12-28 12:40:42,512] A new study created in memory with name: no-name-3e5ad6a8-3fa4-4398-805d-7963bef16266\n",
      "[I 2024-12-28 12:40:56,342] Trial 0 finished with value: 0.7891953509362821 and parameters: {'depth': 5, 'learning_rate': 0.02793059801314807, 'l2_leaf_reg': 5.350429629767392, 'iterations': 1002, 'class_weights': 'cw_1_20'}. Best is trial 0 with value: 0.7891953509362821.\n",
      "[I 2024-12-28 12:41:08,657] Trial 1 finished with value: 0.7501884124665692 and parameters: {'depth': 9, 'learning_rate': 0.1539292826758879, 'l2_leaf_reg': 6.751554675032915, 'iterations': 1024, 'class_weights': 'cw_0.5_40'}. Best is trial 0 with value: 0.7891953509362821.\n",
      "[I 2024-12-28 12:41:23,114] Trial 2 finished with value: 0.7716174126466451 and parameters: {'depth': 9, 'learning_rate': 0.03310142438078552, 'l2_leaf_reg': 8.384980291998911, 'iterations': 1265, 'class_weights': 'cw_0.5_40'}. Best is trial 0 with value: 0.7891953509362821.\n",
      "[I 2024-12-28 12:41:34,979] Trial 3 finished with value: 0.7904731098172344 and parameters: {'depth': 6, 'learning_rate': 0.07741184877519702, 'l2_leaf_reg': 6.087252638941168, 'iterations': 660, 'class_weights': 'cw_0.7_30'}. Best is trial 3 with value: 0.7904731098172344.\n",
      "[I 2024-12-28 12:41:47,664] Trial 4 finished with value: 0.7926645857926996 and parameters: {'depth': 8, 'learning_rate': 0.050216580661380406, 'l2_leaf_reg': 8.998889539274558, 'iterations': 516, 'class_weights': 'cw_0.5_40'}. Best is trial 4 with value: 0.7926645857926996.\n",
      "[I 2024-12-28 12:42:00,903] Trial 5 finished with value: 0.7710460615680808 and parameters: {'depth': 9, 'learning_rate': 0.08626029497537266, 'l2_leaf_reg': 8.006433899638399, 'iterations': 815, 'class_weights': 'cw_0.7_30'}. Best is trial 4 with value: 0.7926645857926996.\n",
      "[I 2024-12-28 12:42:11,837] Trial 6 finished with value: 0.7751894684656445 and parameters: {'depth': 5, 'learning_rate': 0.07715130525654264, 'l2_leaf_reg': 9.165562904005427, 'iterations': 600, 'class_weights': 'cw_0.7_30'}. Best is trial 4 with value: 0.7926645857926996.\n",
      "[I 2024-12-28 12:42:29,685] Trial 7 finished with value: 0.7748415445598262 and parameters: {'depth': 10, 'learning_rate': 0.023899825087066725, 'l2_leaf_reg': 3.6426722606964006, 'iterations': 1055, 'class_weights': 'cw_0.7_30'}. Best is trial 4 with value: 0.7926645857926996.\n",
      "[I 2024-12-28 12:42:44,245] Trial 8 finished with value: 0.7378554548465911 and parameters: {'depth': 10, 'learning_rate': 0.06174475322946167, 'l2_leaf_reg': 1.053832558627132, 'iterations': 670, 'class_weights': 'cw_0.5_40'}. Best is trial 4 with value: 0.7926645857926996.\n",
      "[I 2024-12-28 12:42:56,730] Trial 9 finished with value: 0.7853431774678699 and parameters: {'depth': 8, 'learning_rate': 0.04439219915681164, 'l2_leaf_reg': 4.22422320523769, 'iterations': 1226, 'class_weights': 'cw_0.7_30'}. Best is trial 4 with value: 0.7926645857926996.\n",
      "[I 2024-12-28 12:43:08,657] Trial 10 finished with value: 0.7867793362100972 and parameters: {'depth': 7, 'learning_rate': 0.011656016260506507, 'l2_leaf_reg': 9.651054403707393, 'iterations': 1483, 'class_weights': 'cw_1_20'}. Best is trial 4 with value: 0.7926645857926996.\n",
      "[I 2024-12-28 12:43:19,805] Trial 11 finished with value: 0.7834218149400527 and parameters: {'depth': 6, 'learning_rate': 0.15440962511721226, 'l2_leaf_reg': 6.89610780431871, 'iterations': 518, 'class_weights': 'cw_0.5_40'}. Best is trial 4 with value: 0.7926645857926996.\n",
      "[I 2024-12-28 12:43:31,565] Trial 12 finished with value: 0.7629999044042942 and parameters: {'depth': 7, 'learning_rate': 0.1051172529185954, 'l2_leaf_reg': 6.748958691525256, 'iterations': 781, 'class_weights': 'cw_0.7_30'}. Best is trial 4 with value: 0.7926645857926996.\n",
      "[I 2024-12-28 12:43:42,614] Trial 13 finished with value: 0.7728985062615187 and parameters: {'depth': 4, 'learning_rate': 0.04962574977082503, 'l2_leaf_reg': 2.902914050559218, 'iterations': 790, 'class_weights': 'cw_0.5_40'}. Best is trial 4 with value: 0.7926645857926996.\n",
      "[I 2024-12-28 12:43:54,453] Trial 14 finished with value: 0.7837441725524721 and parameters: {'depth': 6, 'learning_rate': 0.014493034035887468, 'l2_leaf_reg': 5.369353673085662, 'iterations': 501, 'class_weights': 'cw_1_20'}. Best is trial 4 with value: 0.7926645857926996.\n",
      "[I 2024-12-28 12:44:05,852] Trial 15 finished with value: 0.772522237117367 and parameters: {'depth': 7, 'learning_rate': 0.10621739294058809, 'l2_leaf_reg': 7.833890243177821, 'iterations': 671, 'class_weights': 'cw_0.7_30'}. Best is trial 4 with value: 0.7926645857926996.\n",
      "[I 2024-12-28 12:44:19,435] Trial 16 finished with value: 0.786184641994082 and parameters: {'depth': 8, 'learning_rate': 0.018642094473580662, 'l2_leaf_reg': 9.780201655105893, 'iterations': 877, 'class_weights': 'cw_0.5_40'}. Best is trial 4 with value: 0.7926645857926996.\n",
      "[I 2024-12-28 12:44:30,788] Trial 17 finished with value: 0.7827898828619133 and parameters: {'depth': 6, 'learning_rate': 0.04074378789181149, 'l2_leaf_reg': 2.4928254429377263, 'iterations': 659, 'class_weights': 'cw_0.7_30'}. Best is trial 4 with value: 0.7926645857926996.\n",
      "[I 2024-12-28 12:44:42,957] Trial 18 finished with value: 0.7835240801136478 and parameters: {'depth': 8, 'learning_rate': 0.06143165346202356, 'l2_leaf_reg': 5.942867325203901, 'iterations': 902, 'class_weights': 'cw_0.5_40'}. Best is trial 4 with value: 0.7926645857926996.\n",
      "[I 2024-12-28 12:44:54,129] Trial 19 finished with value: 0.76920139792046 and parameters: {'depth': 4, 'learning_rate': 0.19374202100971644, 'l2_leaf_reg': 8.753887998734111, 'iterations': 595, 'class_weights': 'cw_1_20'}. Best is trial 4 with value: 0.7926645857926996.\n",
      "[I 2024-12-28 12:45:05,203] Trial 20 finished with value: 0.776130975009504 and parameters: {'depth': 5, 'learning_rate': 0.0618845546899953, 'l2_leaf_reg': 4.355579046454306, 'iterations': 1120, 'class_weights': 'cw_0.7_30'}. Best is trial 4 with value: 0.7926645857926996.\n",
      "[I 2024-12-28 12:45:18,786] Trial 21 finished with value: 0.7890875278728177 and parameters: {'depth': 5, 'learning_rate': 0.02893205702205459, 'l2_leaf_reg': 5.621203594749979, 'iterations': 940, 'class_weights': 'cw_1_20'}. Best is trial 4 with value: 0.7926645857926996.\n",
      "[I 2024-12-28 12:45:31,260] Trial 22 finished with value: 0.7825964682944615 and parameters: {'depth': 6, 'learning_rate': 0.02320953828891579, 'l2_leaf_reg': 4.837218774526987, 'iterations': 1160, 'class_weights': 'cw_1_20'}. Best is trial 4 with value: 0.7926645857926996.\n",
      "[I 2024-12-28 12:45:42,365] Trial 23 finished with value: 0.7783230067739562 and parameters: {'depth': 5, 'learning_rate': 0.03415682024161987, 'l2_leaf_reg': 7.389117216671854, 'iterations': 772, 'class_weights': 'cw_1_20'}. Best is trial 4 with value: 0.7926645857926996.\n",
      "[I 2024-12-28 12:45:53,360] Trial 24 finished with value: 0.7814621029721371 and parameters: {'depth': 4, 'learning_rate': 0.05207243383584406, 'l2_leaf_reg': 6.276644121003875, 'iterations': 1429, 'class_weights': 'cw_1_20'}. Best is trial 4 with value: 0.7926645857926996.\n",
      "[I 2024-12-28 12:46:04,508] Trial 25 finished with value: 0.7848879862875742 and parameters: {'depth': 6, 'learning_rate': 0.08876268604161948, 'l2_leaf_reg': 4.862624109564194, 'iterations': 969, 'class_weights': 'cw_1_20'}. Best is trial 4 with value: 0.7926645857926996.\n",
      "[I 2024-12-28 12:46:17,481] Trial 26 finished with value: 0.7873456851877789 and parameters: {'depth': 8, 'learning_rate': 0.03760127405122769, 'l2_leaf_reg': 3.49699496742336, 'iterations': 592, 'class_weights': 'cw_0.5_40'}. Best is trial 4 with value: 0.7926645857926996.\n",
      "[I 2024-12-28 12:46:28,750] Trial 27 finished with value: 0.7741701514636148 and parameters: {'depth': 7, 'learning_rate': 0.02592077638966782, 'l2_leaf_reg': 7.367317320090619, 'iterations': 720, 'class_weights': 'cw_1_20'}. Best is trial 4 with value: 0.7926645857926996.\n",
      "[I 2024-12-28 12:46:41,736] Trial 28 finished with value: 0.7862174335443108 and parameters: {'depth': 5, 'learning_rate': 0.017302588681769943, 'l2_leaf_reg': 1.63240378063159, 'iterations': 846, 'class_weights': 'cw_0.5_40'}. Best is trial 4 with value: 0.7926645857926996.\n",
      "[I 2024-12-28 12:46:53,198] Trial 29 finished with value: 0.7759559014786211 and parameters: {'depth': 7, 'learning_rate': 0.06756527746517572, 'l2_leaf_reg': 6.358099398004612, 'iterations': 567, 'class_weights': 'cw_0.7_30'}. Best is trial 4 with value: 0.7926645857926996.\n",
      "[I 2024-12-28 12:47:06,302] Trial 30 finished with value: 0.7730474577100159 and parameters: {'depth': 9, 'learning_rate': 0.10169874874946797, 'l2_leaf_reg': 5.412736276364413, 'iterations': 1011, 'class_weights': 'cw_0.5_40'}. Best is trial 4 with value: 0.7926645857926996.\n",
      "[I 2024-12-28 12:47:19,881] Trial 31 finished with value: 0.7890797468270008 and parameters: {'depth': 5, 'learning_rate': 0.028778077377615164, 'l2_leaf_reg': 5.793124286983826, 'iterations': 920, 'class_weights': 'cw_1_20'}. Best is trial 4 with value: 0.7926645857926996.\n",
      "[I 2024-12-28 12:47:30,957] Trial 32 finished with value: 0.7784174909017344 and parameters: {'depth': 5, 'learning_rate': 0.03249946529730418, 'l2_leaf_reg': 5.058998328402196, 'iterations': 1069, 'class_weights': 'cw_1_20'}. Best is trial 4 with value: 0.7926645857926996.\n",
      "[I 2024-12-28 12:47:43,175] Trial 33 finished with value: 0.7776705105033002 and parameters: {'depth': 4, 'learning_rate': 0.018938109857191267, 'l2_leaf_reg': 4.122718614647738, 'iterations': 1314, 'class_weights': 'cw_1_20'}. Best is trial 4 with value: 0.7926645857926996.\n",
      "[I 2024-12-28 12:47:54,250] Trial 34 finished with value: 0.7793867868949402 and parameters: {'depth': 6, 'learning_rate': 0.05138740969713627, 'l2_leaf_reg': 8.565703049657085, 'iterations': 954, 'class_weights': 'cw_1_20'}. Best is trial 4 with value: 0.7926645857926996.\n",
      "[I 2024-12-28 12:48:05,529] Trial 35 finished with value: 0.7833406697479609 and parameters: {'depth': 5, 'learning_rate': 0.027330693756704737, 'l2_leaf_reg': 6.878358906471519, 'iterations': 732, 'class_weights': 'cw_0.7_30'}. Best is trial 4 with value: 0.7926645857926996.\n",
      "[I 2024-12-28 12:48:18,698] Trial 36 finished with value: 0.7750927611819186 and parameters: {'depth': 6, 'learning_rate': 0.07746691309342041, 'l2_leaf_reg': 7.777904225683375, 'iterations': 1106, 'class_weights': 'cw_1_20'}. Best is trial 4 with value: 0.7926645857926996.\n",
      "[I 2024-12-28 12:48:35,083] Trial 37 finished with value: 0.7587959165071552 and parameters: {'depth': 9, 'learning_rate': 0.020837550148089377, 'l2_leaf_reg': 6.011461872154731, 'iterations': 658, 'class_weights': 'cw_0.5_40'}. Best is trial 4 with value: 0.7926645857926996.\n",
      "[I 2024-12-28 12:48:47,325] Trial 38 finished with value: 0.7883388801074229 and parameters: {'depth': 5, 'learning_rate': 0.03091594271896301, 'l2_leaf_reg': 4.486522276524066, 'iterations': 1184, 'class_weights': 'cw_0.7_30'}. Best is trial 4 with value: 0.7926645857926996.\n",
      "[I 2024-12-28 12:49:00,028] Trial 39 finished with value: 0.7914485194892966 and parameters: {'depth': 8, 'learning_rate': 0.03893331070005545, 'l2_leaf_reg': 8.969523111226668, 'iterations': 528, 'class_weights': 'cw_1_20'}. Best is trial 4 with value: 0.7926645857926996.\n",
      "[I 2024-12-28 12:49:14,441] Trial 40 finished with value: 0.7518630046841895 and parameters: {'depth': 10, 'learning_rate': 0.04366001119838754, 'l2_leaf_reg': 9.087683749195573, 'iterations': 557, 'class_weights': 'cw_0.5_40'}. Best is trial 4 with value: 0.7926645857926996.\n",
      "[I 2024-12-28 12:49:27,159] Trial 41 finished with value: 0.792034876870508 and parameters: {'depth': 8, 'learning_rate': 0.03725125817868577, 'l2_leaf_reg': 9.375111826367034, 'iterations': 546, 'class_weights': 'cw_1_20'}. Best is trial 4 with value: 0.7926645857926996.\n",
      "[I 2024-12-28 12:49:39,901] Trial 42 finished with value: 0.7914524100122051 and parameters: {'depth': 8, 'learning_rate': 0.036386072691367115, 'l2_leaf_reg': 9.301057387725782, 'iterations': 534, 'class_weights': 'cw_1_20'}. Best is trial 4 with value: 0.7926645857926996.\n",
      "[I 2024-12-28 12:49:52,502] Trial 43 finished with value: 0.7913857153337736 and parameters: {'depth': 8, 'learning_rate': 0.03683957238768983, 'l2_leaf_reg': 9.365575067680757, 'iterations': 545, 'class_weights': 'cw_1_20'}. Best is trial 4 with value: 0.7926645857926996.\n",
      "[I 2024-12-28 12:50:05,239] Trial 44 finished with value: 0.7923855797212607 and parameters: {'depth': 8, 'learning_rate': 0.03784568190427735, 'l2_leaf_reg': 9.491620664128689, 'iterations': 538, 'class_weights': 'cw_1_20'}. Best is trial 4 with value: 0.7926645857926996.\n",
      "[I 2024-12-28 12:50:18,621] Trial 45 finished with value: 0.7800009337254981 and parameters: {'depth': 9, 'learning_rate': 0.04757469169623533, 'l2_leaf_reg': 9.843279778892164, 'iterations': 623, 'class_weights': 'cw_1_20'}. Best is trial 4 with value: 0.7926645857926996.\n",
      "[I 2024-12-28 12:50:31,227] Trial 46 finished with value: 0.7892348119543542 and parameters: {'depth': 8, 'learning_rate': 0.039979748214279104, 'l2_leaf_reg': 8.322177245962317, 'iterations': 516, 'class_weights': 'cw_1_20'}. Best is trial 4 with value: 0.7926645857926996.\n",
      "[I 2024-12-28 12:50:43,090] Trial 47 finished with value: 0.7762704780452235 and parameters: {'depth': 8, 'learning_rate': 0.05375494808450861, 'l2_leaf_reg': 8.875460422089642, 'iterations': 500, 'class_weights': 'cw_1_20'}. Best is trial 4 with value: 0.7926645857926996.\n",
      "[I 2024-12-28 12:50:57,577] Trial 48 finished with value: 0.7750922053929317 and parameters: {'depth': 9, 'learning_rate': 0.033305241293535966, 'l2_leaf_reg': 9.388120313379014, 'iterations': 708, 'class_weights': 'cw_1_20'}. Best is trial 4 with value: 0.7926645857926996.\n",
      "[I 2024-12-28 12:51:09,434] Trial 49 finished with value: 0.7856955476855835 and parameters: {'depth': 7, 'learning_rate': 0.04372297785139246, 'l2_leaf_reg': 8.14763529810233, 'iterations': 620, 'class_weights': 'cw_1_20'}. Best is trial 4 with value: 0.7926645857926996.\n"
     ]
    },
    {
     "name": "stdout",
     "output_type": "stream",
     "text": [
      "Best Hyperparameters: {'depth': 8, 'learning_rate': 0.050216580661380406, 'l2_leaf_reg': 8.998889539274558, 'iterations': 516, 'class_weights': 'cw_0.5_40'}\n",
      "Best AUC Score: 0.7926645857926996\n"
     ]
    }
   ],
   "source": [
    "\n",
    "\n",
    "# Define a mapping from identifiers to class weight tuples\n",
    "CLASS_WEIGHT_MAPPING = {\n",
    "    'cw_0.5_40': (0.5, 40),\n",
    "    'cw_0.7_30': (0.7, 30),\n",
    "    'cw_1_20': (1, 20)\n",
    "}\n",
    "\n",
    "def objective(trial):\n",
    "    # Define the hyperparameter space\n",
    "    param = {\n",
    "        'depth': trial.suggest_int('depth', 4, 10),\n",
    "        'learning_rate': trial.suggest_float('learning_rate', 0.01, 0.2, log=True),\n",
    "        'l2_leaf_reg': trial.suggest_float('l2_leaf_reg', 1, 10),\n",
    "        'iterations': trial.suggest_int('iterations', 500, 1500),\n",
    "        # Use string identifiers instead of tuples\n",
    "        'class_weights': trial.suggest_categorical('class_weights', list(CLASS_WEIGHT_MAPPING.keys()))\n",
    "    }\n",
    "    \n",
    "    # Retrieve the actual class weights from the mapping\n",
    "    class_weights_dict = {0: CLASS_WEIGHT_MAPPING[param['class_weights']][0],\n",
    "                          1: CLASS_WEIGHT_MAPPING[param['class_weights']][1]}\n",
    "    \n",
    "    # Initialize the model with the hyperparameters\n",
    "    model = CatBoostClassifier(\n",
    "        loss_function='Logloss', \n",
    "        eval_metric='PRAUC', \n",
    "        random_seed=42,\n",
    "        verbose=0,  # Suppress output\n",
    "        depth=param['depth'],\n",
    "        learning_rate=param['learning_rate'],\n",
    "        l2_leaf_reg=param['l2_leaf_reg'],\n",
    "        iterations=param['iterations'],\n",
    "        class_weights=class_weights_dict\n",
    "    )\n",
    "    \n",
    "    # Split data into train and validation sets\n",
    "    X_train_split, X_val_split, y_train_split, y_val_split = train_test_split(\n",
    "        X_train, y_train, test_size=0.2, random_state=42, stratify=y_train\n",
    "    )\n",
    "    \n",
    "    # Train the model\n",
    "    model.fit(X_train_split, y_train_split, eval_set=(X_val_split, y_val_split), early_stopping_rounds=50)\n",
    "    \n",
    "    # Predict probabilities for the validation set\n",
    "    y_pred = model.predict_proba(X_val_split)[:, 1]\n",
    "    \n",
    "    # Compute AUC score\n",
    "    auc = roc_auc_score(y_val_split, y_pred)\n",
    "    return auc\n",
    "\n",
    "# Create and optimize the study\n",
    "study = optuna.create_study(direction='maximize')\n",
    "study.optimize(objective, n_trials=50)\n",
    "\n",
    "# Best hyperparameters\n",
    "print(\"Best Hyperparameters:\", study.best_params)\n",
    "print(\"Best AUC Score:\", study.best_value)\n"
   ]
  },
  {
   "cell_type": "code",
   "execution_count": 84,
   "id": "d35090ef-4e76-4643-b2ca-7b279c5761b5",
   "metadata": {},
   "outputs": [],
   "source": [
    "# Split data into train and validation sets\n",
    "X_train, X_val, y_train, y_val = train_test_split(\n",
    "    X_train, y_train, test_size=0.2, random_state=42, stratify=y_train\n",
    ")"
   ]
  },
  {
   "cell_type": "code",
   "execution_count": 88,
   "id": "0a40d28d-3f44-4695-bb0a-43b7f4043e5e",
   "metadata": {},
   "outputs": [
    {
     "data": {
      "text/plain": [
       "{'depth': 8,\n",
       " 'learning_rate': 0.050216580661380406,\n",
       " 'l2_leaf_reg': 8.998889539274558,\n",
       " 'iterations': 516,\n",
       " 'class_weights': {0: 0.5, 1: 40}}"
      ]
     },
     "execution_count": 88,
     "metadata": {},
     "output_type": "execute_result"
    }
   ],
   "source": [
    "best_params = study.best_params\n",
    "best_params['class_weights'] = {0: 0.5, 1: 40}\n",
    "best_params"
   ]
  },
  {
   "cell_type": "code",
   "execution_count": 100,
   "id": "42f4e7e6-134a-476e-b29a-5db2d203b404",
   "metadata": {},
   "outputs": [
    {
     "name": "stdout",
     "output_type": "stream",
     "text": [
      "0:\tlearn: 0.7549541\ttest: 0.6979534\tbest: 0.6979534 (0)\ttotal: 37.4ms\tremaining: 19.3s\n",
      "Stopped by overfitting detector  (50 iterations wait)\n",
      "\n",
      "bestTest = 0.7418816349\n",
      "bestIteration = 30\n",
      "\n",
      "Shrink model to first 31 iterations.\n",
      "Best Model AUC on Validation Set: 0.7926645857926996\n"
     ]
    }
   ],
   "source": [
    "# Train and fit the model using the best hyperparameters\n",
    "best_model = CatBoostClassifier(\n",
    "    loss_function='Logloss', \n",
    "    eval_metric='PRAUC', \n",
    "    random_seed=42,\n",
    "    verbose=100,  # Set to 100 to show training progress\n",
    "    **best_params\n",
    ")\n",
    "best_model.fit(X_train, y_train, eval_set=(X_val, y_val), early_stopping_rounds=50)\n",
    "y_val_pred = best_model.predict_proba(X_val)[:, 1]\n",
    "best_auc = roc_auc_score(y_val, y_val_pred)\n",
    "\n",
    "print(f\"Best Model AUC on Validation Set: {best_auc}\")"
   ]
  },
  {
   "cell_type": "code",
   "execution_count": 101,
   "id": "8463698d-db47-46ca-a8bd-6126416ebdbd",
   "metadata": {},
   "outputs": [],
   "source": [
    "X_features = X_train.columns.tolist()\n"
   ]
  },
  {
   "cell_type": "code",
   "execution_count": 102,
   "id": "a8e10e2e-0606-4403-ad8b-920e40c95ab2",
   "metadata": {},
   "outputs": [],
   "source": [
    "# 4. Get feature importance\n",
    "feature_importance = pd.DataFrame({\n",
    "    'feature': X_features,\n",
    "    'importance': best_model.feature_importances_\n",
    "}).sort_values('importance', ascending=False)"
   ]
  },
  {
   "cell_type": "code",
   "execution_count": 103,
   "id": "2f0e1466-9ce7-454f-bc85-38de917f2978",
   "metadata": {},
   "outputs": [
    {
     "data": {
      "text/html": [
       "<div>\n",
       "<style scoped>\n",
       "    .dataframe tbody tr th:only-of-type {\n",
       "        vertical-align: middle;\n",
       "    }\n",
       "\n",
       "    .dataframe tbody tr th {\n",
       "        vertical-align: top;\n",
       "    }\n",
       "\n",
       "    .dataframe thead th {\n",
       "        text-align: right;\n",
       "    }\n",
       "</style>\n",
       "<table border=\"1\" class=\"dataframe\">\n",
       "  <thead>\n",
       "    <tr style=\"text-align: right;\">\n",
       "      <th></th>\n",
       "      <th>feature</th>\n",
       "      <th>importance</th>\n",
       "    </tr>\n",
       "  </thead>\n",
       "  <tbody>\n",
       "    <tr>\n",
       "      <th>1182</th>\n",
       "      <td>D19_SOZIALES_1</td>\n",
       "      <td>27.787978</td>\n",
       "    </tr>\n",
       "    <tr>\n",
       "      <th>602</th>\n",
       "      <td>D19_KONSUMTYP_MAX_2</td>\n",
       "      <td>3.193066</td>\n",
       "    </tr>\n",
       "    <tr>\n",
       "      <th>16</th>\n",
       "      <td>EINGEZOGENAM_HH_JAHR</td>\n",
       "      <td>1.422330</td>\n",
       "    </tr>\n",
       "    <tr>\n",
       "      <th>530</th>\n",
       "      <td>KBA13_CCM_2500_3</td>\n",
       "      <td>1.030702</td>\n",
       "    </tr>\n",
       "    <tr>\n",
       "      <th>991</th>\n",
       "      <td>D19_SONSTIGE_6</td>\n",
       "      <td>0.931474</td>\n",
       "    </tr>\n",
       "    <tr>\n",
       "      <th>1307</th>\n",
       "      <td>D19_GESAMT_ANZ_24_2</td>\n",
       "      <td>0.918764</td>\n",
       "    </tr>\n",
       "    <tr>\n",
       "      <th>1818</th>\n",
       "      <td>FINANZ_MINIMALIST_3</td>\n",
       "      <td>0.862446</td>\n",
       "    </tr>\n",
       "    <tr>\n",
       "      <th>421</th>\n",
       "      <td>SEMIO_DOM_6</td>\n",
       "      <td>0.837435</td>\n",
       "    </tr>\n",
       "    <tr>\n",
       "      <th>1540</th>\n",
       "      <td>SEMIO_TRADV_3</td>\n",
       "      <td>0.830092</td>\n",
       "    </tr>\n",
       "    <tr>\n",
       "      <th>12</th>\n",
       "      <td>D19_LOTTO</td>\n",
       "      <td>0.813876</td>\n",
       "    </tr>\n",
       "    <tr>\n",
       "      <th>1230</th>\n",
       "      <td>KBA13_KW_90_3</td>\n",
       "      <td>0.812519</td>\n",
       "    </tr>\n",
       "    <tr>\n",
       "      <th>1835</th>\n",
       "      <td>KBA05_SEG10_2</td>\n",
       "      <td>0.796400</td>\n",
       "    </tr>\n",
       "    <tr>\n",
       "      <th>409</th>\n",
       "      <td>D19_TECHNIK_6</td>\n",
       "      <td>0.786669</td>\n",
       "    </tr>\n",
       "    <tr>\n",
       "      <th>1191</th>\n",
       "      <td>KBA13_HERST_EUROPA_3</td>\n",
       "      <td>0.729373</td>\n",
       "    </tr>\n",
       "    <tr>\n",
       "      <th>1465</th>\n",
       "      <td>FINANZ_HAUSBAUER_5</td>\n",
       "      <td>0.707838</td>\n",
       "    </tr>\n",
       "    <tr>\n",
       "      <th>1534</th>\n",
       "      <td>VHN_4</td>\n",
       "      <td>0.689975</td>\n",
       "    </tr>\n",
       "    <tr>\n",
       "      <th>803</th>\n",
       "      <td>KBA13_KW_80_2</td>\n",
       "      <td>0.665712</td>\n",
       "    </tr>\n",
       "    <tr>\n",
       "      <th>1473</th>\n",
       "      <td>KBA13_HERST_ASIEN_3</td>\n",
       "      <td>0.664153</td>\n",
       "    </tr>\n",
       "    <tr>\n",
       "      <th>305</th>\n",
       "      <td>KBA05_MAXSEG_1</td>\n",
       "      <td>0.661255</td>\n",
       "    </tr>\n",
       "    <tr>\n",
       "      <th>661</th>\n",
       "      <td>KBA13_ANTG2_2</td>\n",
       "      <td>0.650419</td>\n",
       "    </tr>\n",
       "  </tbody>\n",
       "</table>\n",
       "</div>"
      ],
      "text/plain": [
       "                   feature  importance\n",
       "1182        D19_SOZIALES_1   27.787978\n",
       "602    D19_KONSUMTYP_MAX_2    3.193066\n",
       "16    EINGEZOGENAM_HH_JAHR    1.422330\n",
       "530       KBA13_CCM_2500_3    1.030702\n",
       "991         D19_SONSTIGE_6    0.931474\n",
       "1307   D19_GESAMT_ANZ_24_2    0.918764\n",
       "1818   FINANZ_MINIMALIST_3    0.862446\n",
       "421            SEMIO_DOM_6    0.837435\n",
       "1540         SEMIO_TRADV_3    0.830092\n",
       "12               D19_LOTTO    0.813876\n",
       "1230         KBA13_KW_90_3    0.812519\n",
       "1835         KBA05_SEG10_2    0.796400\n",
       "409          D19_TECHNIK_6    0.786669\n",
       "1191  KBA13_HERST_EUROPA_3    0.729373\n",
       "1465    FINANZ_HAUSBAUER_5    0.707838\n",
       "1534                 VHN_4    0.689975\n",
       "803          KBA13_KW_80_2    0.665712\n",
       "1473   KBA13_HERST_ASIEN_3    0.664153\n",
       "305         KBA05_MAXSEG_1    0.661255\n",
       "661          KBA13_ANTG2_2    0.650419"
      ]
     },
     "execution_count": 103,
     "metadata": {},
     "output_type": "execute_result"
    }
   ],
   "source": [
    "feature_importance.head(20)"
   ]
  },
  {
   "cell_type": "code",
   "execution_count": 107,
   "id": "da7b8514-2e0a-40ce-9631-3f938a2dfb4d",
   "metadata": {},
   "outputs": [],
   "source": [
    "# 5. Calculate validation metrics\n",
    "metrics = {\n",
    "    'auc_roc': roc_auc_score(y_val, y_pred_proba),\n",
    "    'avg_precision': average_precision_score(y_val, y_pred_proba)\n",
    "}"
   ]
  },
  {
   "cell_type": "code",
   "execution_count": 108,
   "id": "33458060-1c97-4f35-b08f-887abf299f0d",
   "metadata": {},
   "outputs": [
    {
     "data": {
      "text/plain": [
       "{'auc_roc': 0.7926645857926996, 'avg_precision': 0.04075032061667317}"
      ]
     },
     "execution_count": 108,
     "metadata": {},
     "output_type": "execute_result"
    }
   ],
   "source": [
    "metrics"
   ]
  },
  {
   "cell_type": "code",
   "execution_count": 109,
   "id": "accfbcfd-b3e2-4b6b-896a-8ecb12fbf65f",
   "metadata": {},
   "outputs": [
    {
     "name": "stderr",
     "output_type": "stream",
     "text": [
      "/tmp/ipykernel_4347/2596134667.py:5: RuntimeWarning: invalid value encountered in divide\n",
      "  f1_scores = 2 * (precision * recall) / (precision + recall)\n"
     ]
    }
   ],
   "source": [
    "\n",
    "# Calculate precision-recall curve\n",
    "precision, recall, thresholds = precision_recall_curve(y_val, y_pred_proba)\n",
    "\n",
    "# Find optimal threshold based on F1 score\n",
    "f1_scores = 2 * (precision * recall) / (precision + recall)\n",
    "optimal_threshold_idx = np.argmax(f1_scores)\n",
    "metrics['optimal_threshold'] = thresholds[optimal_threshold_idx]"
   ]
  },
  {
   "cell_type": "code",
   "execution_count": 110,
   "id": "e21c8d93-58e3-4416-ac39-5e25cd73db20",
   "metadata": {},
   "outputs": [
    {
     "data": {
      "text/plain": [
       "{'auc_roc': 0.7926645857926996,\n",
       " 'avg_precision': 0.04075032061667317,\n",
       " 'optimal_threshold': 0.7292753638343997}"
      ]
     },
     "execution_count": 110,
     "metadata": {},
     "output_type": "execute_result"
    }
   ],
   "source": [
    "metrics"
   ]
  },
  {
   "cell_type": "code",
   "execution_count": 112,
   "id": "fd96d56a-a91d-4535-baec-fbd5b9318999",
   "metadata": {},
   "outputs": [
    {
     "name": "stdout",
     "output_type": "stream",
     "text": [
      "Classification Report:\n",
      "              precision    recall  f1-score   support\n",
      "\n",
      "           0       0.99      0.77      0.87      8487\n",
      "           1       0.04      0.69      0.07       106\n",
      "\n",
      "    accuracy                           0.77      8593\n",
      "   macro avg       0.52      0.73      0.47      8593\n",
      "weighted avg       0.98      0.77      0.86      8593\n",
      "\n"
     ]
    }
   ],
   "source": [
    "# Evaluate the model on the test set\n",
    "from sklearn.metrics import classification_report\n",
    "y_pred = best_model.predict(X_val)\n",
    "print(\"Classification Report:\")\n",
    "print(classification_report(y_val, y_pred))"
   ]
  },
  {
   "cell_type": "markdown",
   "id": "f76c4c76-022a-46e6-a745-3521ea47543a",
   "metadata": {},
   "source": [
    "So clearly our model is suffering from a strong class imballance problem.  Next steps would to use a SMOTE or perhaps another method to help handle the class imballance, and finally try other models"
   ]
  },
  {
   "cell_type": "code",
   "execution_count": null,
   "id": "9d9c0410-76bb-4c61-84d5-cb7ebedf77d4",
   "metadata": {},
   "outputs": [],
   "source": []
  }
 ],
 "metadata": {
  "kernelspec": {
   "display_name": "Python 3 (ipykernel)",
   "language": "python",
   "name": "python3"
  },
  "language_info": {
   "codemirror_mode": {
    "name": "ipython",
    "version": 3
   },
   "file_extension": ".py",
   "mimetype": "text/x-python",
   "name": "python",
   "nbconvert_exporter": "python",
   "pygments_lexer": "ipython3",
   "version": "3.11.11"
  }
 },
 "nbformat": 4,
 "nbformat_minor": 5
}
